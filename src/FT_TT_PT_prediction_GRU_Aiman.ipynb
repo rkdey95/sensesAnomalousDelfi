{
 "cells": [
  {
   "cell_type": "code",
   "execution_count": 587,
   "metadata": {},
   "outputs": [],
   "source": [
    "import tensorflow as tf\n",
    "import os\n",
    "import pandas as pd\n",
    "import numpy as np\n",
    "from sklearn.preprocessing import MinMaxScaler, StandardScaler\n"
   ]
  },
  {
   "attachments": {},
   "cell_type": "markdown",
   "metadata": {},
   "source": [
    "**GET AND PROCESSING DATA**"
   ]
  },
  {
   "cell_type": "code",
   "execution_count": 588,
   "metadata": {},
   "outputs": [
    {
     "data": {
      "text/html": [
       "<div>\n",
       "<style scoped>\n",
       "    .dataframe tbody tr th:only-of-type {\n",
       "        vertical-align: middle;\n",
       "    }\n",
       "\n",
       "    .dataframe tbody tr th {\n",
       "        vertical-align: top;\n",
       "    }\n",
       "\n",
       "    .dataframe thead th {\n",
       "        text-align: right;\n",
       "    }\n",
       "</style>\n",
       "<table border=\"1\" class=\"dataframe\">\n",
       "  <thead>\n",
       "    <tr style=\"text-align: right;\">\n",
       "      <th></th>\n",
       "      <th>PT-92512</th>\n",
       "      <th>KA-9101_ESP</th>\n",
       "      <th>PT-92523</th>\n",
       "      <th>KA-9101_ASP</th>\n",
       "      <th>TT-92512</th>\n",
       "      <th>PDT-92534</th>\n",
       "      <th>FT-92537-01</th>\n",
       "      <th>TT-92539</th>\n",
       "      <th>PT-92539</th>\n",
       "    </tr>\n",
       "  </thead>\n",
       "  <tbody>\n",
       "    <tr>\n",
       "      <th>0</th>\n",
       "      <td>0.568887</td>\n",
       "      <td>0.756645</td>\n",
       "      <td>1.114104</td>\n",
       "      <td>0.469132</td>\n",
       "      <td>1.211533</td>\n",
       "      <td>0.510445</td>\n",
       "      <td>1.593227</td>\n",
       "      <td>-0.591426</td>\n",
       "      <td>1.300561</td>\n",
       "    </tr>\n",
       "    <tr>\n",
       "      <th>1</th>\n",
       "      <td>0.883040</td>\n",
       "      <td>1.479688</td>\n",
       "      <td>1.475950</td>\n",
       "      <td>1.217852</td>\n",
       "      <td>1.213979</td>\n",
       "      <td>0.842695</td>\n",
       "      <td>-0.508434</td>\n",
       "      <td>-0.296420</td>\n",
       "      <td>0.300755</td>\n",
       "    </tr>\n",
       "    <tr>\n",
       "      <th>2</th>\n",
       "      <td>-1.437611</td>\n",
       "      <td>-0.498885</td>\n",
       "      <td>-0.409312</td>\n",
       "      <td>-0.900826</td>\n",
       "      <td>1.285578</td>\n",
       "      <td>-0.465983</td>\n",
       "      <td>-0.103025</td>\n",
       "      <td>0.027097</td>\n",
       "      <td>-0.316045</td>\n",
       "    </tr>\n",
       "    <tr>\n",
       "      <th>3</th>\n",
       "      <td>-1.000302</td>\n",
       "      <td>-0.068849</td>\n",
       "      <td>-0.318639</td>\n",
       "      <td>0.352503</td>\n",
       "      <td>1.299608</td>\n",
       "      <td>-0.007157</td>\n",
       "      <td>-0.988447</td>\n",
       "      <td>-0.078370</td>\n",
       "      <td>-0.071493</td>\n",
       "    </tr>\n",
       "    <tr>\n",
       "      <th>4</th>\n",
       "      <td>-1.151931</td>\n",
       "      <td>-0.115811</td>\n",
       "      <td>-0.504366</td>\n",
       "      <td>-0.075952</td>\n",
       "      <td>1.259629</td>\n",
       "      <td>-1.148164</td>\n",
       "      <td>0.838102</td>\n",
       "      <td>-0.108251</td>\n",
       "      <td>-0.313934</td>\n",
       "    </tr>\n",
       "    <tr>\n",
       "      <th>...</th>\n",
       "      <td>...</td>\n",
       "      <td>...</td>\n",
       "      <td>...</td>\n",
       "      <td>...</td>\n",
       "      <td>...</td>\n",
       "      <td>...</td>\n",
       "      <td>...</td>\n",
       "      <td>...</td>\n",
       "      <td>...</td>\n",
       "    </tr>\n",
       "    <tr>\n",
       "      <th>53205</th>\n",
       "      <td>-0.253059</td>\n",
       "      <td>-0.434749</td>\n",
       "      <td>-0.915413</td>\n",
       "      <td>-0.058739</td>\n",
       "      <td>1.160719</td>\n",
       "      <td>0.446660</td>\n",
       "      <td>0.295219</td>\n",
       "      <td>0.955310</td>\n",
       "      <td>-0.466594</td>\n",
       "    </tr>\n",
       "    <tr>\n",
       "      <th>53206</th>\n",
       "      <td>-0.410593</td>\n",
       "      <td>-0.629332</td>\n",
       "      <td>-1.175726</td>\n",
       "      <td>0.773856</td>\n",
       "      <td>1.078445</td>\n",
       "      <td>1.014937</td>\n",
       "      <td>1.634087</td>\n",
       "      <td>0.818230</td>\n",
       "      <td>0.497178</td>\n",
       "    </tr>\n",
       "    <tr>\n",
       "      <th>53207</th>\n",
       "      <td>0.929763</td>\n",
       "      <td>-0.566815</td>\n",
       "      <td>-0.127897</td>\n",
       "      <td>0.639480</td>\n",
       "      <td>1.068387</td>\n",
       "      <td>1.938569</td>\n",
       "      <td>0.574032</td>\n",
       "      <td>0.832990</td>\n",
       "      <td>-0.454206</td>\n",
       "    </tr>\n",
       "    <tr>\n",
       "      <th>53208</th>\n",
       "      <td>-0.757037</td>\n",
       "      <td>-1.225790</td>\n",
       "      <td>-1.535133</td>\n",
       "      <td>0.772276</td>\n",
       "      <td>1.178779</td>\n",
       "      <td>1.411637</td>\n",
       "      <td>1.613214</td>\n",
       "      <td>0.691635</td>\n",
       "      <td>0.471294</td>\n",
       "    </tr>\n",
       "    <tr>\n",
       "      <th>53209</th>\n",
       "      <td>1.112442</td>\n",
       "      <td>0.192540</td>\n",
       "      <td>0.082464</td>\n",
       "      <td>1.559294</td>\n",
       "      <td>1.242584</td>\n",
       "      <td>1.806234</td>\n",
       "      <td>-0.290838</td>\n",
       "      <td>0.728905</td>\n",
       "      <td>0.807148</td>\n",
       "    </tr>\n",
       "  </tbody>\n",
       "</table>\n",
       "<p>53210 rows × 9 columns</p>\n",
       "</div>"
      ],
      "text/plain": [
       "       PT-92512  KA-9101_ESP  PT-92523  KA-9101_ASP  TT-92512  PDT-92534  \\\n",
       "0      0.568887     0.756645  1.114104     0.469132  1.211533   0.510445   \n",
       "1      0.883040     1.479688  1.475950     1.217852  1.213979   0.842695   \n",
       "2     -1.437611    -0.498885 -0.409312    -0.900826  1.285578  -0.465983   \n",
       "3     -1.000302    -0.068849 -0.318639     0.352503  1.299608  -0.007157   \n",
       "4     -1.151931    -0.115811 -0.504366    -0.075952  1.259629  -1.148164   \n",
       "...         ...          ...       ...          ...       ...        ...   \n",
       "53205 -0.253059    -0.434749 -0.915413    -0.058739  1.160719   0.446660   \n",
       "53206 -0.410593    -0.629332 -1.175726     0.773856  1.078445   1.014937   \n",
       "53207  0.929763    -0.566815 -0.127897     0.639480  1.068387   1.938569   \n",
       "53208 -0.757037    -1.225790 -1.535133     0.772276  1.178779   1.411637   \n",
       "53209  1.112442     0.192540  0.082464     1.559294  1.242584   1.806234   \n",
       "\n",
       "       FT-92537-01  TT-92539  PT-92539  \n",
       "0         1.593227 -0.591426  1.300561  \n",
       "1        -0.508434 -0.296420  0.300755  \n",
       "2        -0.103025  0.027097 -0.316045  \n",
       "3        -0.988447 -0.078370 -0.071493  \n",
       "4         0.838102 -0.108251 -0.313934  \n",
       "...            ...       ...       ...  \n",
       "53205     0.295219  0.955310 -0.466594  \n",
       "53206     1.634087  0.818230  0.497178  \n",
       "53207     0.574032  0.832990 -0.454206  \n",
       "53208     1.613214  0.691635  0.471294  \n",
       "53209    -0.290838  0.728905  0.807148  \n",
       "\n",
       "[53210 rows x 9 columns]"
      ]
     },
     "execution_count": 588,
     "metadata": {},
     "output_type": "execute_result"
    }
   ],
   "source": [
    "df = pd.read_csv(\"../data/featureEngineeredData/Full_data.csv\")\n",
    "df"
   ]
  },
  {
   "cell_type": "code",
   "execution_count": 558,
   "metadata": {},
   "outputs": [],
   "source": [
    "# df = df[5::6]\n",
    "# df"
   ]
  },
  {
   "cell_type": "code",
   "execution_count": 589,
   "metadata": {},
   "outputs": [],
   "source": [
    "def df_to_X_y2(df, window_size=6,data_col=6):\n",
    "  df_as_np = df.to_numpy()\n",
    "  X = []\n",
    "  y = []\n",
    "  for i in range(len(df_as_np)-window_size):\n",
    "    row = [r for r in df_as_np[i:i+window_size, 0:6]] #pick on first 6 variables\n",
    "    X.append(row[0:data_col])\n",
    "    label = df_as_np[i+window_size][data_col] # the target index\n",
    "    y.append(label)\n",
    "  \n",
    "  print (np.array(X).shape)\n",
    "  return np.array(X), np.array(y)"
   ]
  },
  {
   "cell_type": "code",
   "execution_count": 590,
   "metadata": {},
   "outputs": [
    {
     "name": "stdout",
     "output_type": "stream",
     "text": [
      "(53204, 6, 6)\n"
     ]
    },
    {
     "data": {
      "text/plain": [
       "((53204, 6, 6), (53204,))"
      ]
     },
     "execution_count": 590,
     "metadata": {},
     "output_type": "execute_result"
    }
   ],
   "source": [
    "X2, y2 = df_to_X_y2(df,6,6)\n",
    "X2.shape, y2.shape"
   ]
  },
  {
   "cell_type": "code",
   "execution_count": 591,
   "metadata": {},
   "outputs": [
    {
     "data": {
      "text/plain": [
       "array([[[ 0.5688867 ,  0.75664519,  1.11410366,  0.46913232,\n",
       "          1.21153315,  0.51044483],\n",
       "        [ 0.88304035,  1.47968839,  1.47594952,  1.21785182,\n",
       "          1.21397928,  0.84269541],\n",
       "        [-1.4376115 , -0.49888547, -0.40931222, -0.90082614,\n",
       "          1.28557827, -0.46598257],\n",
       "        [-1.0003018 , -0.06884909, -0.3186392 ,  0.35250308,\n",
       "          1.29960804, -0.00715651],\n",
       "        [-1.15193125, -0.11581108, -0.50436627, -0.07595169,\n",
       "          1.25962858, -1.14816362],\n",
       "        [ 0.52604457,  0.05047803,  0.05136503,  0.45472396,\n",
       "          1.19844724,  0.8763861 ]],\n",
       "\n",
       "       [[ 0.88304035,  1.47968839,  1.47594952,  1.21785182,\n",
       "          1.21397928,  0.84269541],\n",
       "        [-1.4376115 , -0.49888547, -0.40931222, -0.90082614,\n",
       "          1.28557827, -0.46598257],\n",
       "        [-1.0003018 , -0.06884909, -0.3186392 ,  0.35250308,\n",
       "          1.29960804, -0.00715651],\n",
       "        [-1.15193125, -0.11581108, -0.50436627, -0.07595169,\n",
       "          1.25962858, -1.14816362],\n",
       "        [ 0.52604457,  0.05047803,  0.05136503,  0.45472396,\n",
       "          1.19844724,  0.8763861 ],\n",
       "        [-0.43291326, -0.56493003, -0.57883217, -0.87750654,\n",
       "          1.25196459, -0.63772551]],\n",
       "\n",
       "       [[-1.4376115 , -0.49888547, -0.40931222, -0.90082614,\n",
       "          1.28557827, -0.46598257],\n",
       "        [-1.0003018 , -0.06884909, -0.3186392 ,  0.35250308,\n",
       "          1.29960804, -0.00715651],\n",
       "        [-1.15193125, -0.11581108, -0.50436627, -0.07595169,\n",
       "          1.25962858, -1.14816362],\n",
       "        [ 0.52604457,  0.05047803,  0.05136503,  0.45472396,\n",
       "          1.19844724,  0.8763861 ],\n",
       "        [-0.43291326, -0.56493003, -0.57883217, -0.87750654,\n",
       "          1.25196459, -0.63772551],\n",
       "        [ 0.44670087,  0.29350826, -0.00346043,  1.08731434,\n",
       "          1.25411979,  0.85981609]],\n",
       "\n",
       "       ...,\n",
       "\n",
       "       [[ 0.97889269, -0.18039617, -0.02625637,  0.60541601,\n",
       "          1.28756747,  1.66521321],\n",
       "        [-0.58958367, -0.9149417 , -1.1933232 , -0.90405901,\n",
       "          1.25469846,  0.30046799],\n",
       "        [-0.51086626, -1.16832312, -1.16165996, -0.58482086,\n",
       "          1.22093193,  0.48272331],\n",
       "        [ 0.69909211, -0.45415571, -0.35017519,  0.43697414,\n",
       "          1.18148043,  1.87085497],\n",
       "        [-0.25305893, -0.43474941, -0.91541262, -0.05873941,\n",
       "          1.1607193 ,  0.44666022],\n",
       "        [-0.41059324, -0.62933248, -1.17572556,  0.77385554,\n",
       "          1.07844549,  1.01493744]],\n",
       "\n",
       "       [[-0.58958367, -0.9149417 , -1.1933232 , -0.90405901,\n",
       "          1.25469846,  0.30046799],\n",
       "        [-0.51086626, -1.16832312, -1.16165996, -0.58482086,\n",
       "          1.22093193,  0.48272331],\n",
       "        [ 0.69909211, -0.45415571, -0.35017519,  0.43697414,\n",
       "          1.18148043,  1.87085497],\n",
       "        [-0.25305893, -0.43474941, -0.91541262, -0.05873941,\n",
       "          1.1607193 ,  0.44666022],\n",
       "        [-0.41059324, -0.62933248, -1.17572556,  0.77385554,\n",
       "          1.07844549,  1.01493744],\n",
       "        [ 0.92976328, -0.56681516, -0.12789653,  0.63948001,\n",
       "          1.06838721,  1.93856891]],\n",
       "\n",
       "       [[-0.51086626, -1.16832312, -1.16165996, -0.58482086,\n",
       "          1.22093193,  0.48272331],\n",
       "        [ 0.69909211, -0.45415571, -0.35017519,  0.43697414,\n",
       "          1.18148043,  1.87085497],\n",
       "        [-0.25305893, -0.43474941, -0.91541262, -0.05873941,\n",
       "          1.1607193 ,  0.44666022],\n",
       "        [-0.41059324, -0.62933248, -1.17572556,  0.77385554,\n",
       "          1.07844549,  1.01493744],\n",
       "        [ 0.92976328, -0.56681516, -0.12789653,  0.63948001,\n",
       "          1.06838721,  1.93856891],\n",
       "        [-0.75703651, -1.22578982, -1.5351331 ,  0.77227631,\n",
       "          1.17877916,  1.41163677]]])"
      ]
     },
     "execution_count": 591,
     "metadata": {},
     "output_type": "execute_result"
    }
   ],
   "source": [
    "X2"
   ]
  },
  {
   "cell_type": "code",
   "execution_count": 592,
   "metadata": {},
   "outputs": [
    {
     "data": {
      "text/plain": [
       "array([ 0.85575466, -0.86719046,  0.14117779, ...,  0.57403195,\n",
       "        1.61321401, -0.29083825])"
      ]
     },
     "execution_count": 592,
     "metadata": {},
     "output_type": "execute_result"
    }
   ],
   "source": [
    "y2"
   ]
  },
  {
   "cell_type": "code",
   "execution_count": 593,
   "metadata": {},
   "outputs": [
    {
     "data": {
      "text/plain": [
       "PT-92512      -0.432913\n",
       "KA-9101_ESP   -0.564930\n",
       "PT-92523      -0.578832\n",
       "KA-9101_ASP   -0.877507\n",
       "TT-92512       1.251965\n",
       "PDT-92534     -0.637726\n",
       "FT-92537-01    0.855755\n",
       "TT-92539      -0.341125\n",
       "PT-92539      -0.307956\n",
       "Name: 6, dtype: float64"
      ]
     },
     "execution_count": 593,
     "metadata": {},
     "output_type": "execute_result"
    }
   ],
   "source": [
    "df.iloc[6,:]"
   ]
  },
  {
   "cell_type": "code",
   "execution_count": 594,
   "metadata": {},
   "outputs": [
    {
     "name": "stdout",
     "output_type": "stream",
     "text": [
      "(53204, 6, 6)\n"
     ]
    },
    {
     "data": {
      "text/plain": [
       "((53204, 6, 6), (53204,))"
      ]
     },
     "execution_count": 594,
     "metadata": {},
     "output_type": "execute_result"
    }
   ],
   "source": [
    "X3, y3 = df_to_X_y2(df,6,7) #our label is at 7\n",
    "X3.shape, y3.shape"
   ]
  },
  {
   "cell_type": "code",
   "execution_count": 595,
   "metadata": {},
   "outputs": [
    {
     "name": "stdout",
     "output_type": "stream",
     "text": [
      "(53204, 6, 6)\n"
     ]
    },
    {
     "data": {
      "text/plain": [
       "((53204, 6, 6), (53204,))"
      ]
     },
     "execution_count": 595,
     "metadata": {},
     "output_type": "execute_result"
    }
   ],
   "source": [
    "X4, y4 = df_to_X_y2(df,6,8)\n",
    "X4.shape, y4.shape"
   ]
  },
  {
   "cell_type": "code",
   "execution_count": 597,
   "metadata": {},
   "outputs": [
    {
     "data": {
      "text/plain": [
       "((31920, 6, 6), (31920,), (10580, 6, 6), (10580,), (10704, 6, 6), (10704,))"
      ]
     },
     "execution_count": 597,
     "metadata": {},
     "output_type": "execute_result"
    }
   ],
   "source": [
    "X2_train, y2_train = X2[:31920], y2[:31920]\n",
    "X2_val, y2_val = X2[31920:42500], y2[31920:42500]\n",
    "X2_test, y2_test = X2[42500:], y2[42500:]\n",
    "X2_train.shape, y2_train.shape, X2_val.shape, y2_val.shape, X2_test.shape, y2_test.shape"
   ]
  },
  {
   "cell_type": "code",
   "execution_count": 598,
   "metadata": {},
   "outputs": [
    {
     "data": {
      "text/plain": [
       "((31920, 6, 6), (31920,), (10580, 6, 6), (10580,), (10704, 6, 6), (10704,))"
      ]
     },
     "execution_count": 598,
     "metadata": {},
     "output_type": "execute_result"
    }
   ],
   "source": [
    "X3_train, y3_train = X3[:31920], y3[:31920]\n",
    "X3_val, y3_val = X3[31920:42500], y3[31920:42500]\n",
    "X3_test, y3_test = X3[42500:], y3[42500:]\n",
    "X3_train.shape, y3_train.shape, X3_val.shape, y3_val.shape, X3_test.shape, y3_test.shape"
   ]
  },
  {
   "cell_type": "code",
   "execution_count": 599,
   "metadata": {},
   "outputs": [
    {
     "data": {
      "text/plain": [
       "((31920, 6, 6), (31920,), (10580, 6, 6), (10580,), (10704, 6, 6), (10704,))"
      ]
     },
     "execution_count": 599,
     "metadata": {},
     "output_type": "execute_result"
    }
   ],
   "source": [
    "X4_train, y4_train = X4[:31920], y4[:31920]\n",
    "X4_val, y4_val = X4[31920:42500], y4[31920:42500]\n",
    "X4_test, y4_test = X4[42500:], y4[42500:]\n",
    "X4_train.shape, y4_train.shape, X4_val.shape, y4_val.shape, X4_test.shape, y4_test.shape"
   ]
  },
  {
   "attachments": {},
   "cell_type": "markdown",
   "metadata": {},
   "source": [
    "**MODEL EVALUATION**"
   ]
  },
  {
   "cell_type": "code",
   "execution_count": 600,
   "metadata": {},
   "outputs": [
    {
     "name": "stdout",
     "output_type": "stream",
     "text": [
      "Model: \"sequential_48\"\n",
      "_________________________________________________________________\n",
      "Layer (type)                 Output Shape              Param #   \n",
      "=================================================================\n",
      "gru_31 (GRU)                 (None, 128)               52224     \n",
      "_________________________________________________________________\n",
      "dense_96 (Dense)             (None, 8)                 1032      \n",
      "_________________________________________________________________\n",
      "dense_97 (Dense)             (None, 1)                 9         \n",
      "=================================================================\n",
      "Total params: 53,265\n",
      "Trainable params: 53,265\n",
      "Non-trainable params: 0\n",
      "_________________________________________________________________\n"
     ]
    }
   ],
   "source": [
    "from tensorflow.keras.models import Sequential\n",
    "from tensorflow.keras.layers import *\n",
    "from tensorflow.keras.callbacks import ModelCheckpoint\n",
    "from tensorflow.keras.losses import MeanSquaredError\n",
    "from tensorflow.keras.metrics import RootMeanSquaredError\n",
    "from tensorflow.keras.optimizers import Adam\n",
    "\n",
    "model1 = Sequential()\n",
    "model1.add(InputLayer((6, 6)))\n",
    "model1.add(GRU(128))\n",
    "model1.add(Dense(8, 'relu'))\n",
    "model1.add(Dense(1, 'linear'))\n",
    "\n",
    "model1.summary()"
   ]
  },
  {
   "cell_type": "code",
   "execution_count": 601,
   "metadata": {},
   "outputs": [],
   "source": [
    "cp1 = ModelCheckpoint('model1/', save_best_only=True)\n",
    "model1.compile(loss=MeanSquaredError(), optimizer=Adam(learning_rate=0.0001), metrics=[RootMeanSquaredError()])"
   ]
  },
  {
   "cell_type": "code",
   "execution_count": 602,
   "metadata": {},
   "outputs": [
    {
     "name": "stdout",
     "output_type": "stream",
     "text": [
      "Epoch 1/100\n",
      "998/998 [==============================] - 19s 16ms/step - loss: 0.7058 - root_mean_squared_error: 0.8401 - val_loss: 0.7637 - val_root_mean_squared_error: 0.8739\n"
     ]
    },
    {
     "name": "stderr",
     "output_type": "stream",
     "text": [
      "WARNING:absl:Found untraced functions such as gru_cell_31_layer_call_fn, gru_cell_31_layer_call_and_return_conditional_losses, gru_cell_31_layer_call_fn, gru_cell_31_layer_call_and_return_conditional_losses, gru_cell_31_layer_call_and_return_conditional_losses while saving (showing 5 of 5). These functions will not be directly callable after loading.\n"
     ]
    },
    {
     "name": "stdout",
     "output_type": "stream",
     "text": [
      "INFO:tensorflow:Assets written to: model1\\assets\n"
     ]
    },
    {
     "name": "stderr",
     "output_type": "stream",
     "text": [
      "INFO:tensorflow:Assets written to: model1\\assets\n"
     ]
    },
    {
     "name": "stdout",
     "output_type": "stream",
     "text": [
      "Epoch 2/100\n",
      "998/998 [==============================] - 12s 12ms/step - loss: 0.6797 - root_mean_squared_error: 0.8244 - val_loss: 0.7471 - val_root_mean_squared_error: 0.8643\n"
     ]
    },
    {
     "name": "stderr",
     "output_type": "stream",
     "text": [
      "WARNING:absl:Found untraced functions such as gru_cell_31_layer_call_fn, gru_cell_31_layer_call_and_return_conditional_losses, gru_cell_31_layer_call_fn, gru_cell_31_layer_call_and_return_conditional_losses, gru_cell_31_layer_call_and_return_conditional_losses while saving (showing 5 of 5). These functions will not be directly callable after loading.\n"
     ]
    },
    {
     "name": "stdout",
     "output_type": "stream",
     "text": [
      "INFO:tensorflow:Assets written to: model1\\assets\n"
     ]
    },
    {
     "name": "stderr",
     "output_type": "stream",
     "text": [
      "INFO:tensorflow:Assets written to: model1\\assets\n"
     ]
    },
    {
     "name": "stdout",
     "output_type": "stream",
     "text": [
      "Epoch 3/100\n",
      "998/998 [==============================] - 13s 13ms/step - loss: 0.6717 - root_mean_squared_error: 0.8196 - val_loss: 0.7382 - val_root_mean_squared_error: 0.8592\n"
     ]
    },
    {
     "name": "stderr",
     "output_type": "stream",
     "text": [
      "WARNING:absl:Found untraced functions such as gru_cell_31_layer_call_fn, gru_cell_31_layer_call_and_return_conditional_losses, gru_cell_31_layer_call_fn, gru_cell_31_layer_call_and_return_conditional_losses, gru_cell_31_layer_call_and_return_conditional_losses while saving (showing 5 of 5). These functions will not be directly callable after loading.\n"
     ]
    },
    {
     "name": "stdout",
     "output_type": "stream",
     "text": [
      "INFO:tensorflow:Assets written to: model1\\assets\n"
     ]
    },
    {
     "name": "stderr",
     "output_type": "stream",
     "text": [
      "INFO:tensorflow:Assets written to: model1\\assets\n"
     ]
    },
    {
     "name": "stdout",
     "output_type": "stream",
     "text": [
      "Epoch 4/100\n",
      "998/998 [==============================] - 12s 12ms/step - loss: 0.6664 - root_mean_squared_error: 0.8163 - val_loss: 0.7398 - val_root_mean_squared_error: 0.8601\n",
      "Epoch 5/100\n",
      "998/998 [==============================] - 12s 12ms/step - loss: 0.6635 - root_mean_squared_error: 0.8146 - val_loss: 0.7337 - val_root_mean_squared_error: 0.8566\n"
     ]
    },
    {
     "name": "stderr",
     "output_type": "stream",
     "text": [
      "WARNING:absl:Found untraced functions such as gru_cell_31_layer_call_fn, gru_cell_31_layer_call_and_return_conditional_losses, gru_cell_31_layer_call_fn, gru_cell_31_layer_call_and_return_conditional_losses, gru_cell_31_layer_call_and_return_conditional_losses while saving (showing 5 of 5). These functions will not be directly callable after loading.\n"
     ]
    },
    {
     "name": "stdout",
     "output_type": "stream",
     "text": [
      "INFO:tensorflow:Assets written to: model1\\assets\n"
     ]
    },
    {
     "name": "stderr",
     "output_type": "stream",
     "text": [
      "INFO:tensorflow:Assets written to: model1\\assets\n"
     ]
    },
    {
     "name": "stdout",
     "output_type": "stream",
     "text": [
      "Epoch 6/100\n",
      "998/998 [==============================] - 12s 12ms/step - loss: 0.6601 - root_mean_squared_error: 0.8125 - val_loss: 0.7272 - val_root_mean_squared_error: 0.8528\n"
     ]
    },
    {
     "name": "stderr",
     "output_type": "stream",
     "text": [
      "WARNING:absl:Found untraced functions such as gru_cell_31_layer_call_fn, gru_cell_31_layer_call_and_return_conditional_losses, gru_cell_31_layer_call_fn, gru_cell_31_layer_call_and_return_conditional_losses, gru_cell_31_layer_call_and_return_conditional_losses while saving (showing 5 of 5). These functions will not be directly callable after loading.\n"
     ]
    },
    {
     "name": "stdout",
     "output_type": "stream",
     "text": [
      "INFO:tensorflow:Assets written to: model1\\assets\n"
     ]
    },
    {
     "name": "stderr",
     "output_type": "stream",
     "text": [
      "INFO:tensorflow:Assets written to: model1\\assets\n"
     ]
    },
    {
     "name": "stdout",
     "output_type": "stream",
     "text": [
      "Epoch 7/100\n",
      "998/998 [==============================] - 14s 14ms/step - loss: 0.6580 - root_mean_squared_error: 0.8112 - val_loss: 0.7241 - val_root_mean_squared_error: 0.8510\n"
     ]
    },
    {
     "name": "stderr",
     "output_type": "stream",
     "text": [
      "WARNING:absl:Found untraced functions such as gru_cell_31_layer_call_fn, gru_cell_31_layer_call_and_return_conditional_losses, gru_cell_31_layer_call_fn, gru_cell_31_layer_call_and_return_conditional_losses, gru_cell_31_layer_call_and_return_conditional_losses while saving (showing 5 of 5). These functions will not be directly callable after loading.\n"
     ]
    },
    {
     "name": "stdout",
     "output_type": "stream",
     "text": [
      "INFO:tensorflow:Assets written to: model1\\assets\n"
     ]
    },
    {
     "name": "stderr",
     "output_type": "stream",
     "text": [
      "INFO:tensorflow:Assets written to: model1\\assets\n"
     ]
    },
    {
     "name": "stdout",
     "output_type": "stream",
     "text": [
      "Epoch 8/100\n",
      "998/998 [==============================] - 11s 11ms/step - loss: 0.6554 - root_mean_squared_error: 0.8096 - val_loss: 0.7262 - val_root_mean_squared_error: 0.8522\n",
      "Epoch 9/100\n",
      "998/998 [==============================] - 11s 11ms/step - loss: 0.6543 - root_mean_squared_error: 0.8089 - val_loss: 0.7234 - val_root_mean_squared_error: 0.8505\n"
     ]
    },
    {
     "name": "stderr",
     "output_type": "stream",
     "text": [
      "WARNING:absl:Found untraced functions such as gru_cell_31_layer_call_fn, gru_cell_31_layer_call_and_return_conditional_losses, gru_cell_31_layer_call_fn, gru_cell_31_layer_call_and_return_conditional_losses, gru_cell_31_layer_call_and_return_conditional_losses while saving (showing 5 of 5). These functions will not be directly callable after loading.\n"
     ]
    },
    {
     "name": "stdout",
     "output_type": "stream",
     "text": [
      "INFO:tensorflow:Assets written to: model1\\assets\n"
     ]
    },
    {
     "name": "stderr",
     "output_type": "stream",
     "text": [
      "INFO:tensorflow:Assets written to: model1\\assets\n"
     ]
    },
    {
     "name": "stdout",
     "output_type": "stream",
     "text": [
      "Epoch 10/100\n",
      "998/998 [==============================] - 14s 14ms/step - loss: 0.6529 - root_mean_squared_error: 0.8080 - val_loss: 0.7197 - val_root_mean_squared_error: 0.8483\n"
     ]
    },
    {
     "name": "stderr",
     "output_type": "stream",
     "text": [
      "WARNING:absl:Found untraced functions such as gru_cell_31_layer_call_fn, gru_cell_31_layer_call_and_return_conditional_losses, gru_cell_31_layer_call_fn, gru_cell_31_layer_call_and_return_conditional_losses, gru_cell_31_layer_call_and_return_conditional_losses while saving (showing 5 of 5). These functions will not be directly callable after loading.\n"
     ]
    },
    {
     "name": "stdout",
     "output_type": "stream",
     "text": [
      "INFO:tensorflow:Assets written to: model1\\assets\n"
     ]
    },
    {
     "name": "stderr",
     "output_type": "stream",
     "text": [
      "INFO:tensorflow:Assets written to: model1\\assets\n"
     ]
    },
    {
     "name": "stdout",
     "output_type": "stream",
     "text": [
      "Epoch 11/100\n",
      "998/998 [==============================] - 13s 13ms/step - loss: 0.6515 - root_mean_squared_error: 0.8072 - val_loss: 0.7241 - val_root_mean_squared_error: 0.8509\n",
      "Epoch 12/100\n",
      "998/998 [==============================] - 15s 16ms/step - loss: 0.6501 - root_mean_squared_error: 0.8063 - val_loss: 0.7208 - val_root_mean_squared_error: 0.8490\n",
      "Epoch 13/100\n",
      "998/998 [==============================] - 15s 15ms/step - loss: 0.6491 - root_mean_squared_error: 0.8057 - val_loss: 0.7195 - val_root_mean_squared_error: 0.8482\n"
     ]
    },
    {
     "name": "stderr",
     "output_type": "stream",
     "text": [
      "WARNING:absl:Found untraced functions such as gru_cell_31_layer_call_fn, gru_cell_31_layer_call_and_return_conditional_losses, gru_cell_31_layer_call_fn, gru_cell_31_layer_call_and_return_conditional_losses, gru_cell_31_layer_call_and_return_conditional_losses while saving (showing 5 of 5). These functions will not be directly callable after loading.\n"
     ]
    },
    {
     "name": "stdout",
     "output_type": "stream",
     "text": [
      "INFO:tensorflow:Assets written to: model1\\assets\n"
     ]
    },
    {
     "name": "stderr",
     "output_type": "stream",
     "text": [
      "INFO:tensorflow:Assets written to: model1\\assets\n"
     ]
    },
    {
     "name": "stdout",
     "output_type": "stream",
     "text": [
      "Epoch 14/100\n",
      "998/998 [==============================] - 13s 13ms/step - loss: 0.6481 - root_mean_squared_error: 0.8051 - val_loss: 0.7185 - val_root_mean_squared_error: 0.8476\n"
     ]
    },
    {
     "name": "stderr",
     "output_type": "stream",
     "text": [
      "WARNING:absl:Found untraced functions such as gru_cell_31_layer_call_fn, gru_cell_31_layer_call_and_return_conditional_losses, gru_cell_31_layer_call_fn, gru_cell_31_layer_call_and_return_conditional_losses, gru_cell_31_layer_call_and_return_conditional_losses while saving (showing 5 of 5). These functions will not be directly callable after loading.\n"
     ]
    },
    {
     "name": "stdout",
     "output_type": "stream",
     "text": [
      "INFO:tensorflow:Assets written to: model1\\assets\n"
     ]
    },
    {
     "name": "stderr",
     "output_type": "stream",
     "text": [
      "INFO:tensorflow:Assets written to: model1\\assets\n"
     ]
    },
    {
     "name": "stdout",
     "output_type": "stream",
     "text": [
      "Epoch 15/100\n",
      "998/998 [==============================] - 13s 13ms/step - loss: 0.6473 - root_mean_squared_error: 0.8045 - val_loss: 0.7181 - val_root_mean_squared_error: 0.8474\n"
     ]
    },
    {
     "name": "stderr",
     "output_type": "stream",
     "text": [
      "WARNING:absl:Found untraced functions such as gru_cell_31_layer_call_fn, gru_cell_31_layer_call_and_return_conditional_losses, gru_cell_31_layer_call_fn, gru_cell_31_layer_call_and_return_conditional_losses, gru_cell_31_layer_call_and_return_conditional_losses while saving (showing 5 of 5). These functions will not be directly callable after loading.\n"
     ]
    },
    {
     "name": "stdout",
     "output_type": "stream",
     "text": [
      "INFO:tensorflow:Assets written to: model1\\assets\n"
     ]
    },
    {
     "name": "stderr",
     "output_type": "stream",
     "text": [
      "INFO:tensorflow:Assets written to: model1\\assets\n"
     ]
    },
    {
     "name": "stdout",
     "output_type": "stream",
     "text": [
      "Epoch 16/100\n",
      "998/998 [==============================] - 13s 13ms/step - loss: 0.6462 - root_mean_squared_error: 0.8039 - val_loss: 0.7167 - val_root_mean_squared_error: 0.8466\n"
     ]
    },
    {
     "name": "stderr",
     "output_type": "stream",
     "text": [
      "WARNING:absl:Found untraced functions such as gru_cell_31_layer_call_fn, gru_cell_31_layer_call_and_return_conditional_losses, gru_cell_31_layer_call_fn, gru_cell_31_layer_call_and_return_conditional_losses, gru_cell_31_layer_call_and_return_conditional_losses while saving (showing 5 of 5). These functions will not be directly callable after loading.\n"
     ]
    },
    {
     "name": "stdout",
     "output_type": "stream",
     "text": [
      "INFO:tensorflow:Assets written to: model1\\assets\n"
     ]
    },
    {
     "name": "stderr",
     "output_type": "stream",
     "text": [
      "INFO:tensorflow:Assets written to: model1\\assets\n"
     ]
    },
    {
     "name": "stdout",
     "output_type": "stream",
     "text": [
      "Epoch 17/100\n",
      "998/998 [==============================] - 12s 12ms/step - loss: 0.6453 - root_mean_squared_error: 0.8033 - val_loss: 0.7238 - val_root_mean_squared_error: 0.8508\n",
      "Epoch 18/100\n",
      "998/998 [==============================] - 12s 12ms/step - loss: 0.6450 - root_mean_squared_error: 0.8031 - val_loss: 0.7161 - val_root_mean_squared_error: 0.8462\n"
     ]
    },
    {
     "name": "stderr",
     "output_type": "stream",
     "text": [
      "WARNING:absl:Found untraced functions such as gru_cell_31_layer_call_fn, gru_cell_31_layer_call_and_return_conditional_losses, gru_cell_31_layer_call_fn, gru_cell_31_layer_call_and_return_conditional_losses, gru_cell_31_layer_call_and_return_conditional_losses while saving (showing 5 of 5). These functions will not be directly callable after loading.\n"
     ]
    },
    {
     "name": "stdout",
     "output_type": "stream",
     "text": [
      "INFO:tensorflow:Assets written to: model1\\assets\n"
     ]
    },
    {
     "name": "stderr",
     "output_type": "stream",
     "text": [
      "INFO:tensorflow:Assets written to: model1\\assets\n"
     ]
    },
    {
     "name": "stdout",
     "output_type": "stream",
     "text": [
      "Epoch 19/100\n",
      "998/998 [==============================] - 11s 11ms/step - loss: 0.6442 - root_mean_squared_error: 0.8027 - val_loss: 0.7162 - val_root_mean_squared_error: 0.8463\n",
      "Epoch 20/100\n",
      "998/998 [==============================] - 11s 11ms/step - loss: 0.6439 - root_mean_squared_error: 0.8025 - val_loss: 0.7174 - val_root_mean_squared_error: 0.8470\n",
      "Epoch 21/100\n",
      "998/998 [==============================] - 11s 11ms/step - loss: 0.6429 - root_mean_squared_error: 0.8018 - val_loss: 0.7192 - val_root_mean_squared_error: 0.8480\n",
      "Epoch 22/100\n",
      "998/998 [==============================] - 11s 11ms/step - loss: 0.6429 - root_mean_squared_error: 0.8018 - val_loss: 0.7175 - val_root_mean_squared_error: 0.8471\n",
      "Epoch 23/100\n",
      "998/998 [==============================] - 12s 12ms/step - loss: 0.6419 - root_mean_squared_error: 0.8012 - val_loss: 0.7141 - val_root_mean_squared_error: 0.8450\n"
     ]
    },
    {
     "name": "stderr",
     "output_type": "stream",
     "text": [
      "WARNING:absl:Found untraced functions such as gru_cell_31_layer_call_fn, gru_cell_31_layer_call_and_return_conditional_losses, gru_cell_31_layer_call_fn, gru_cell_31_layer_call_and_return_conditional_losses, gru_cell_31_layer_call_and_return_conditional_losses while saving (showing 5 of 5). These functions will not be directly callable after loading.\n"
     ]
    },
    {
     "name": "stdout",
     "output_type": "stream",
     "text": [
      "INFO:tensorflow:Assets written to: model1\\assets\n"
     ]
    },
    {
     "name": "stderr",
     "output_type": "stream",
     "text": [
      "INFO:tensorflow:Assets written to: model1\\assets\n"
     ]
    },
    {
     "name": "stdout",
     "output_type": "stream",
     "text": [
      "Epoch 24/100\n",
      "998/998 [==============================] - 13s 13ms/step - loss: 0.6417 - root_mean_squared_error: 0.8011 - val_loss: 0.7143 - val_root_mean_squared_error: 0.8452\n",
      "Epoch 25/100\n",
      "998/998 [==============================] - 13s 13ms/step - loss: 0.6411 - root_mean_squared_error: 0.8007 - val_loss: 0.7119 - val_root_mean_squared_error: 0.8437\n"
     ]
    },
    {
     "name": "stderr",
     "output_type": "stream",
     "text": [
      "WARNING:absl:Found untraced functions such as gru_cell_31_layer_call_fn, gru_cell_31_layer_call_and_return_conditional_losses, gru_cell_31_layer_call_fn, gru_cell_31_layer_call_and_return_conditional_losses, gru_cell_31_layer_call_and_return_conditional_losses while saving (showing 5 of 5). These functions will not be directly callable after loading.\n"
     ]
    },
    {
     "name": "stdout",
     "output_type": "stream",
     "text": [
      "INFO:tensorflow:Assets written to: model1\\assets\n"
     ]
    },
    {
     "name": "stderr",
     "output_type": "stream",
     "text": [
      "INFO:tensorflow:Assets written to: model1\\assets\n"
     ]
    },
    {
     "name": "stdout",
     "output_type": "stream",
     "text": [
      "Epoch 26/100\n",
      "998/998 [==============================] - 13s 13ms/step - loss: 0.6408 - root_mean_squared_error: 0.8005 - val_loss: 0.7121 - val_root_mean_squared_error: 0.8438\n",
      "Epoch 27/100\n",
      "998/998 [==============================] - 13s 13ms/step - loss: 0.6404 - root_mean_squared_error: 0.8002 - val_loss: 0.7121 - val_root_mean_squared_error: 0.8438\n",
      "Epoch 28/100\n",
      "998/998 [==============================] - 13s 13ms/step - loss: 0.6397 - root_mean_squared_error: 0.7998 - val_loss: 0.7137 - val_root_mean_squared_error: 0.8448\n",
      "Epoch 29/100\n",
      "998/998 [==============================] - 14s 14ms/step - loss: 0.6397 - root_mean_squared_error: 0.7998 - val_loss: 0.7148 - val_root_mean_squared_error: 0.8455\n",
      "Epoch 30/100\n",
      "998/998 [==============================] - 13s 13ms/step - loss: 0.6390 - root_mean_squared_error: 0.7994 - val_loss: 0.7142 - val_root_mean_squared_error: 0.8451\n",
      "Epoch 31/100\n",
      "998/998 [==============================] - 13s 13ms/step - loss: 0.6388 - root_mean_squared_error: 0.7992 - val_loss: 0.7131 - val_root_mean_squared_error: 0.8444\n",
      "Epoch 32/100\n",
      "998/998 [==============================] - 13s 13ms/step - loss: 0.6380 - root_mean_squared_error: 0.7988 - val_loss: 0.7158 - val_root_mean_squared_error: 0.8460\n",
      "Epoch 33/100\n",
      "998/998 [==============================] - 12s 12ms/step - loss: 0.6380 - root_mean_squared_error: 0.7987 - val_loss: 0.7112 - val_root_mean_squared_error: 0.8433\n"
     ]
    },
    {
     "name": "stderr",
     "output_type": "stream",
     "text": [
      "WARNING:absl:Found untraced functions such as gru_cell_31_layer_call_fn, gru_cell_31_layer_call_and_return_conditional_losses, gru_cell_31_layer_call_fn, gru_cell_31_layer_call_and_return_conditional_losses, gru_cell_31_layer_call_and_return_conditional_losses while saving (showing 5 of 5). These functions will not be directly callable after loading.\n"
     ]
    },
    {
     "name": "stdout",
     "output_type": "stream",
     "text": [
      "INFO:tensorflow:Assets written to: model1\\assets\n"
     ]
    },
    {
     "name": "stderr",
     "output_type": "stream",
     "text": [
      "INFO:tensorflow:Assets written to: model1\\assets\n"
     ]
    },
    {
     "name": "stdout",
     "output_type": "stream",
     "text": [
      "Epoch 34/100\n",
      "998/998 [==============================] - 14s 15ms/step - loss: 0.6376 - root_mean_squared_error: 0.7985 - val_loss: 0.7129 - val_root_mean_squared_error: 0.8443\n",
      "Epoch 35/100\n",
      "998/998 [==============================] - 13s 13ms/step - loss: 0.6373 - root_mean_squared_error: 0.7983 - val_loss: 0.7153 - val_root_mean_squared_error: 0.8458\n",
      "Epoch 36/100\n",
      "998/998 [==============================] - 13s 13ms/step - loss: 0.6364 - root_mean_squared_error: 0.7978 - val_loss: 0.7157 - val_root_mean_squared_error: 0.8460\n",
      "Epoch 37/100\n",
      "998/998 [==============================] - 13s 13ms/step - loss: 0.6363 - root_mean_squared_error: 0.7977 - val_loss: 0.7137 - val_root_mean_squared_error: 0.8448\n",
      "Epoch 38/100\n",
      "998/998 [==============================] - 13s 13ms/step - loss: 0.6359 - root_mean_squared_error: 0.7974 - val_loss: 0.7107 - val_root_mean_squared_error: 0.8430\n"
     ]
    },
    {
     "name": "stderr",
     "output_type": "stream",
     "text": [
      "WARNING:absl:Found untraced functions such as gru_cell_31_layer_call_fn, gru_cell_31_layer_call_and_return_conditional_losses, gru_cell_31_layer_call_fn, gru_cell_31_layer_call_and_return_conditional_losses, gru_cell_31_layer_call_and_return_conditional_losses while saving (showing 5 of 5). These functions will not be directly callable after loading.\n"
     ]
    },
    {
     "name": "stdout",
     "output_type": "stream",
     "text": [
      "INFO:tensorflow:Assets written to: model1\\assets\n"
     ]
    },
    {
     "name": "stderr",
     "output_type": "stream",
     "text": [
      "INFO:tensorflow:Assets written to: model1\\assets\n"
     ]
    },
    {
     "name": "stdout",
     "output_type": "stream",
     "text": [
      "Epoch 39/100\n",
      "998/998 [==============================] - 13s 13ms/step - loss: 0.6358 - root_mean_squared_error: 0.7974 - val_loss: 0.7101 - val_root_mean_squared_error: 0.8426\n"
     ]
    },
    {
     "name": "stderr",
     "output_type": "stream",
     "text": [
      "WARNING:absl:Found untraced functions such as gru_cell_31_layer_call_fn, gru_cell_31_layer_call_and_return_conditional_losses, gru_cell_31_layer_call_fn, gru_cell_31_layer_call_and_return_conditional_losses, gru_cell_31_layer_call_and_return_conditional_losses while saving (showing 5 of 5). These functions will not be directly callable after loading.\n"
     ]
    },
    {
     "name": "stdout",
     "output_type": "stream",
     "text": [
      "INFO:tensorflow:Assets written to: model1\\assets\n"
     ]
    },
    {
     "name": "stderr",
     "output_type": "stream",
     "text": [
      "INFO:tensorflow:Assets written to: model1\\assets\n"
     ]
    },
    {
     "name": "stdout",
     "output_type": "stream",
     "text": [
      "Epoch 40/100\n",
      "998/998 [==============================] - 12s 12ms/step - loss: 0.6349 - root_mean_squared_error: 0.7968 - val_loss: 0.7093 - val_root_mean_squared_error: 0.8422\n"
     ]
    },
    {
     "name": "stderr",
     "output_type": "stream",
     "text": [
      "WARNING:absl:Found untraced functions such as gru_cell_31_layer_call_fn, gru_cell_31_layer_call_and_return_conditional_losses, gru_cell_31_layer_call_fn, gru_cell_31_layer_call_and_return_conditional_losses, gru_cell_31_layer_call_and_return_conditional_losses while saving (showing 5 of 5). These functions will not be directly callable after loading.\n"
     ]
    },
    {
     "name": "stdout",
     "output_type": "stream",
     "text": [
      "INFO:tensorflow:Assets written to: model1\\assets\n"
     ]
    },
    {
     "name": "stderr",
     "output_type": "stream",
     "text": [
      "INFO:tensorflow:Assets written to: model1\\assets\n"
     ]
    },
    {
     "name": "stdout",
     "output_type": "stream",
     "text": [
      "Epoch 41/100\n",
      "998/998 [==============================] - 12s 12ms/step - loss: 0.6351 - root_mean_squared_error: 0.7969 - val_loss: 0.7129 - val_root_mean_squared_error: 0.8443\n",
      "Epoch 42/100\n",
      "998/998 [==============================] - 12s 12ms/step - loss: 0.6343 - root_mean_squared_error: 0.7964 - val_loss: 0.7127 - val_root_mean_squared_error: 0.8442\n",
      "Epoch 43/100\n",
      "998/998 [==============================] - 12s 12ms/step - loss: 0.6344 - root_mean_squared_error: 0.7965 - val_loss: 0.7130 - val_root_mean_squared_error: 0.8444\n",
      "Epoch 44/100\n",
      "998/998 [==============================] - 12s 12ms/step - loss: 0.6340 - root_mean_squared_error: 0.7962 - val_loss: 0.7134 - val_root_mean_squared_error: 0.8446\n",
      "Epoch 45/100\n",
      "998/998 [==============================] - 12s 12ms/step - loss: 0.6335 - root_mean_squared_error: 0.7959 - val_loss: 0.7087 - val_root_mean_squared_error: 0.8419\n"
     ]
    },
    {
     "name": "stderr",
     "output_type": "stream",
     "text": [
      "WARNING:absl:Found untraced functions such as gru_cell_31_layer_call_fn, gru_cell_31_layer_call_and_return_conditional_losses, gru_cell_31_layer_call_fn, gru_cell_31_layer_call_and_return_conditional_losses, gru_cell_31_layer_call_and_return_conditional_losses while saving (showing 5 of 5). These functions will not be directly callable after loading.\n"
     ]
    },
    {
     "name": "stdout",
     "output_type": "stream",
     "text": [
      "INFO:tensorflow:Assets written to: model1\\assets\n"
     ]
    },
    {
     "name": "stderr",
     "output_type": "stream",
     "text": [
      "INFO:tensorflow:Assets written to: model1\\assets\n"
     ]
    },
    {
     "name": "stdout",
     "output_type": "stream",
     "text": [
      "Epoch 46/100\n",
      "998/998 [==============================] - 12s 12ms/step - loss: 0.6333 - root_mean_squared_error: 0.7958 - val_loss: 0.7115 - val_root_mean_squared_error: 0.8435\n",
      "Epoch 47/100\n",
      "998/998 [==============================] - 12s 12ms/step - loss: 0.6333 - root_mean_squared_error: 0.7958 - val_loss: 0.7112 - val_root_mean_squared_error: 0.8433\n",
      "Epoch 48/100\n",
      "998/998 [==============================] - 13s 13ms/step - loss: 0.6329 - root_mean_squared_error: 0.7955 - val_loss: 0.7124 - val_root_mean_squared_error: 0.8440\n",
      "Epoch 49/100\n",
      "998/998 [==============================] - 13s 13ms/step - loss: 0.6324 - root_mean_squared_error: 0.7952 - val_loss: 0.7267 - val_root_mean_squared_error: 0.8525\n",
      "Epoch 50/100\n",
      "998/998 [==============================] - 12s 12ms/step - loss: 0.6321 - root_mean_squared_error: 0.7951 - val_loss: 0.7130 - val_root_mean_squared_error: 0.8444\n",
      "Epoch 51/100\n",
      "998/998 [==============================] - 13s 13ms/step - loss: 0.6321 - root_mean_squared_error: 0.7950 - val_loss: 0.7131 - val_root_mean_squared_error: 0.8444\n",
      "Epoch 52/100\n",
      "998/998 [==============================] - 13s 13ms/step - loss: 0.6317 - root_mean_squared_error: 0.7948 - val_loss: 0.7128 - val_root_mean_squared_error: 0.8443\n",
      "Epoch 53/100\n",
      "998/998 [==============================] - 12s 12ms/step - loss: 0.6308 - root_mean_squared_error: 0.7943 - val_loss: 0.7145 - val_root_mean_squared_error: 0.8453\n",
      "Epoch 54/100\n",
      "998/998 [==============================] - 14s 14ms/step - loss: 0.6308 - root_mean_squared_error: 0.7942 - val_loss: 0.7156 - val_root_mean_squared_error: 0.8459\n",
      "Epoch 55/100\n",
      "998/998 [==============================] - 18s 18ms/step - loss: 0.6304 - root_mean_squared_error: 0.7940 - val_loss: 0.7141 - val_root_mean_squared_error: 0.8450\n",
      "Epoch 56/100\n",
      "998/998 [==============================] - 16s 16ms/step - loss: 0.6303 - root_mean_squared_error: 0.7939 - val_loss: 0.7122 - val_root_mean_squared_error: 0.8439\n",
      "Epoch 57/100\n",
      "998/998 [==============================] - 15s 15ms/step - loss: 0.6298 - root_mean_squared_error: 0.7936 - val_loss: 0.7105 - val_root_mean_squared_error: 0.8429\n",
      "Epoch 58/100\n",
      "998/998 [==============================] - 13s 14ms/step - loss: 0.6292 - root_mean_squared_error: 0.7932 - val_loss: 0.7137 - val_root_mean_squared_error: 0.8448\n",
      "Epoch 59/100\n",
      "998/998 [==============================] - 13s 13ms/step - loss: 0.6288 - root_mean_squared_error: 0.7929 - val_loss: 0.7124 - val_root_mean_squared_error: 0.8441\n",
      "Epoch 60/100\n",
      "998/998 [==============================] - 15s 15ms/step - loss: 0.6292 - root_mean_squared_error: 0.7932 - val_loss: 0.7118 - val_root_mean_squared_error: 0.8437\n",
      "Epoch 61/100\n",
      "998/998 [==============================] - 13s 13ms/step - loss: 0.6289 - root_mean_squared_error: 0.7930 - val_loss: 0.7114 - val_root_mean_squared_error: 0.8435\n",
      "Epoch 62/100\n",
      "998/998 [==============================] - 13s 13ms/step - loss: 0.6278 - root_mean_squared_error: 0.7923 - val_loss: 0.7166 - val_root_mean_squared_error: 0.8465\n",
      "Epoch 63/100\n",
      "998/998 [==============================] - 13s 13ms/step - loss: 0.6277 - root_mean_squared_error: 0.7923 - val_loss: 0.7134 - val_root_mean_squared_error: 0.8447\n",
      "Epoch 64/100\n",
      "998/998 [==============================] - 15s 15ms/step - loss: 0.6276 - root_mean_squared_error: 0.7922 - val_loss: 0.7127 - val_root_mean_squared_error: 0.8442\n",
      "Epoch 65/100\n",
      "998/998 [==============================] - 19s 19ms/step - loss: 0.6267 - root_mean_squared_error: 0.7917 - val_loss: 0.7115 - val_root_mean_squared_error: 0.8435ed_error: 0.7\n",
      "Epoch 66/100\n",
      "998/998 [==============================] - 16s 16ms/step - loss: 0.6270 - root_mean_squared_error: 0.7919 - val_loss: 0.7157 - val_root_mean_squared_error: 0.8460\n",
      "Epoch 67/100\n",
      "998/998 [==============================] - 16s 16ms/step - loss: 0.6263 - root_mean_squared_error: 0.7914 - val_loss: 0.7207 - val_root_mean_squared_error: 0.8489\n",
      "Epoch 68/100\n",
      "998/998 [==============================] - 19s 19ms/step - loss: 0.6260 - root_mean_squared_error: 0.7912 - val_loss: 0.7132 - val_root_mean_squared_error: 0.8445\n",
      "Epoch 69/100\n",
      "998/998 [==============================] - 15s 15ms/step - loss: 0.6262 - root_mean_squared_error: 0.7913 - val_loss: 0.7098 - val_root_mean_squared_error: 0.8425\n",
      "Epoch 70/100\n",
      "998/998 [==============================] - 14s 14ms/step - loss: 0.6252 - root_mean_squared_error: 0.7907 - val_loss: 0.7126 - val_root_mean_squared_error: 0.8441\n",
      "Epoch 71/100\n",
      "998/998 [==============================] - 15s 15ms/step - loss: 0.6255 - root_mean_squared_error: 0.7909 - val_loss: 0.7131 - val_root_mean_squared_error: 0.8444\n",
      "Epoch 72/100\n",
      "998/998 [==============================] - 23s 23ms/step - loss: 0.6250 - root_mean_squared_error: 0.7906 - val_loss: 0.7106 - val_root_mean_squared_error: 0.8430\n",
      "Epoch 73/100\n",
      "998/998 [==============================] - 13s 14ms/step - loss: 0.6247 - root_mean_squared_error: 0.7904 - val_loss: 0.7108 - val_root_mean_squared_error: 0.8431\n",
      "Epoch 74/100\n",
      "998/998 [==============================] - 14s 14ms/step - loss: 0.6238 - root_mean_squared_error: 0.7898 - val_loss: 0.7104 - val_root_mean_squared_error: 0.8429\n",
      "Epoch 75/100\n",
      "998/998 [==============================] - 15s 15ms/step - loss: 0.6241 - root_mean_squared_error: 0.7900 - val_loss: 0.7194 - val_root_mean_squared_error: 0.8482\n",
      "Epoch 76/100\n",
      "998/998 [==============================] - 16s 16ms/step - loss: 0.6233 - root_mean_squared_error: 0.7895 - val_loss: 0.7139 - val_root_mean_squared_error: 0.8449\n",
      "Epoch 77/100\n",
      "998/998 [==============================] - 14s 14ms/step - loss: 0.6228 - root_mean_squared_error: 0.7892 - val_loss: 0.7157 - val_root_mean_squared_error: 0.8460\n",
      "Epoch 78/100\n",
      "998/998 [==============================] - 15s 15ms/step - loss: 0.6230 - root_mean_squared_error: 0.7893 - val_loss: 0.7164 - val_root_mean_squared_error: 0.8464\n",
      "Epoch 79/100\n",
      "998/998 [==============================] - 14s 14ms/step - loss: 0.6223 - root_mean_squared_error: 0.7889 - val_loss: 0.7152 - val_root_mean_squared_error: 0.8457\n",
      "Epoch 80/100\n",
      "998/998 [==============================] - 14s 14ms/step - loss: 0.6216 - root_mean_squared_error: 0.7884 - val_loss: 0.7144 - val_root_mean_squared_error: 0.8452\n",
      "Epoch 81/100\n",
      "998/998 [==============================] - 16s 16ms/step - loss: 0.6213 - root_mean_squared_error: 0.7883 - val_loss: 0.7122 - val_root_mean_squared_error: 0.8439\n",
      "Epoch 82/100\n",
      "998/998 [==============================] - 14s 14ms/step - loss: 0.6211 - root_mean_squared_error: 0.7881 - val_loss: 0.7177 - val_root_mean_squared_error: 0.8472\n",
      "Epoch 83/100\n",
      "998/998 [==============================] - 14s 14ms/step - loss: 0.6207 - root_mean_squared_error: 0.7879 - val_loss: 0.7148 - val_root_mean_squared_error: 0.8455\n",
      "Epoch 84/100\n",
      "998/998 [==============================] - 14s 14ms/step - loss: 0.6207 - root_mean_squared_error: 0.7878 - val_loss: 0.7142 - val_root_mean_squared_error: 0.8451\n",
      "Epoch 85/100\n",
      "998/998 [==============================] - 14s 14ms/step - loss: 0.6200 - root_mean_squared_error: 0.7874 - val_loss: 0.7134 - val_root_mean_squared_error: 0.8447\n",
      "Epoch 86/100\n",
      "998/998 [==============================] - 14s 14ms/step - loss: 0.6201 - root_mean_squared_error: 0.7875 - val_loss: 0.7136 - val_root_mean_squared_error: 0.8447\n",
      "Epoch 87/100\n",
      "998/998 [==============================] - 14s 14ms/step - loss: 0.6193 - root_mean_squared_error: 0.7869 - val_loss: 0.7182 - val_root_mean_squared_error: 0.8475\n",
      "Epoch 88/100\n",
      "998/998 [==============================] - 14s 14ms/step - loss: 0.6189 - root_mean_squared_error: 0.7867 - val_loss: 0.7140 - val_root_mean_squared_error: 0.8450\n",
      "Epoch 89/100\n",
      "998/998 [==============================] - 14s 14ms/step - loss: 0.6188 - root_mean_squared_error: 0.7866 - val_loss: 0.7171 - val_root_mean_squared_error: 0.8468\n",
      "Epoch 90/100\n",
      "998/998 [==============================] - 14s 14ms/step - loss: 0.6182 - root_mean_squared_error: 0.7862 - val_loss: 0.7166 - val_root_mean_squared_error: 0.8465\n",
      "Epoch 91/100\n",
      "998/998 [==============================] - 14s 14ms/step - loss: 0.6179 - root_mean_squared_error: 0.7861 - val_loss: 0.7188 - val_root_mean_squared_error: 0.8478\n",
      "Epoch 92/100\n",
      "998/998 [==============================] - 14s 14ms/step - loss: 0.6176 - root_mean_squared_error: 0.7858 - val_loss: 0.7185 - val_root_mean_squared_error: 0.8476\n",
      "Epoch 93/100\n",
      "998/998 [==============================] - 14s 14ms/step - loss: 0.6170 - root_mean_squared_error: 0.7855 - val_loss: 0.7138 - val_root_mean_squared_error: 0.8448\n",
      "Epoch 94/100\n",
      "998/998 [==============================] - 14s 14ms/step - loss: 0.6165 - root_mean_squared_error: 0.7852 - val_loss: 0.7139 - val_root_mean_squared_error: 0.8449\n",
      "Epoch 95/100\n",
      "998/998 [==============================] - 15s 15ms/step - loss: 0.6165 - root_mean_squared_error: 0.7852 - val_loss: 0.7199 - val_root_mean_squared_error: 0.8485\n",
      "Epoch 96/100\n",
      "998/998 [==============================] - 13s 13ms/step - loss: 0.6156 - root_mean_squared_error: 0.7846 - val_loss: 0.7206 - val_root_mean_squared_error: 0.8489\n",
      "Epoch 97/100\n",
      "998/998 [==============================] - 13s 13ms/step - loss: 0.6157 - root_mean_squared_error: 0.7846 - val_loss: 0.7178 - val_root_mean_squared_error: 0.8473\n",
      "Epoch 98/100\n",
      "998/998 [==============================] - 13s 13ms/step - loss: 0.6146 - root_mean_squared_error: 0.7840 - val_loss: 0.7213 - val_root_mean_squared_error: 0.8493\n",
      "Epoch 99/100\n",
      "998/998 [==============================] - 14s 14ms/step - loss: 0.6147 - root_mean_squared_error: 0.7840 - val_loss: 0.7219 - val_root_mean_squared_error: 0.8496\n",
      "Epoch 100/100\n",
      "998/998 [==============================] - 13s 13ms/step - loss: 0.6145 - root_mean_squared_error: 0.7839 - val_loss: 0.7145 - val_root_mean_squared_error: 0.8453\n"
     ]
    }
   ],
   "source": [
    "history = model1.fit(X2_train, y2_train, validation_data=(X2_val, y2_val), epochs=100, callbacks=[cp1])"
   ]
  },
  {
   "cell_type": "code",
   "execution_count": 605,
   "metadata": {},
   "outputs": [
    {
     "name": "stdout",
     "output_type": "stream",
     "text": [
      "Model: \"sequential_49\"\n",
      "_________________________________________________________________\n",
      "Layer (type)                 Output Shape              Param #   \n",
      "=================================================================\n",
      "gru_32 (GRU)                 (None, 128)               52224     \n",
      "_________________________________________________________________\n",
      "dense_98 (Dense)             (None, 8)                 1032      \n",
      "_________________________________________________________________\n",
      "dense_99 (Dense)             (None, 1)                 9         \n",
      "=================================================================\n",
      "Total params: 53,265\n",
      "Trainable params: 53,265\n",
      "Non-trainable params: 0\n",
      "_________________________________________________________________\n"
     ]
    }
   ],
   "source": [
    "#TT\n",
    "model2 = Sequential()\n",
    "model2.add(InputLayer((6, 6)))\n",
    "model2.add(GRU(128))\n",
    "model2.add(Dense(8, 'relu'))\n",
    "model2.add(Dense(1, 'linear'))\n",
    "\n",
    "model2.summary()"
   ]
  },
  {
   "cell_type": "code",
   "execution_count": 606,
   "metadata": {},
   "outputs": [],
   "source": [
    "cp2 = ModelCheckpoint('model2/', save_best_only=True)\n",
    "model2.compile(loss=MeanSquaredError(), optimizer=Adam(learning_rate=0.0001), metrics=[RootMeanSquaredError()])"
   ]
  },
  {
   "cell_type": "code",
   "execution_count": 607,
   "metadata": {},
   "outputs": [
    {
     "name": "stdout",
     "output_type": "stream",
     "text": [
      "Epoch 1/100\n",
      "998/998 [==============================] - 13s 11ms/step - loss: 0.4275 - root_mean_squared_error: 0.6538 - val_loss: 0.8104 - val_root_mean_squared_error: 0.9002\n"
     ]
    },
    {
     "name": "stderr",
     "output_type": "stream",
     "text": [
      "WARNING:absl:Found untraced functions such as gru_cell_32_layer_call_fn, gru_cell_32_layer_call_and_return_conditional_losses, gru_cell_32_layer_call_fn, gru_cell_32_layer_call_and_return_conditional_losses, gru_cell_32_layer_call_and_return_conditional_losses while saving (showing 5 of 5). These functions will not be directly callable after loading.\n"
     ]
    },
    {
     "name": "stdout",
     "output_type": "stream",
     "text": [
      "INFO:tensorflow:Assets written to: model2\\assets\n"
     ]
    },
    {
     "name": "stderr",
     "output_type": "stream",
     "text": [
      "INFO:tensorflow:Assets written to: model2\\assets\n"
     ]
    },
    {
     "name": "stdout",
     "output_type": "stream",
     "text": [
      "Epoch 2/100\n",
      "998/998 [==============================] - 12s 12ms/step - loss: 0.2751 - root_mean_squared_error: 0.5245 - val_loss: 0.6269 - val_root_mean_squared_error: 0.7918\n"
     ]
    },
    {
     "name": "stderr",
     "output_type": "stream",
     "text": [
      "WARNING:absl:Found untraced functions such as gru_cell_32_layer_call_fn, gru_cell_32_layer_call_and_return_conditional_losses, gru_cell_32_layer_call_fn, gru_cell_32_layer_call_and_return_conditional_losses, gru_cell_32_layer_call_and_return_conditional_losses while saving (showing 5 of 5). These functions will not be directly callable after loading.\n"
     ]
    },
    {
     "name": "stdout",
     "output_type": "stream",
     "text": [
      "INFO:tensorflow:Assets written to: model2\\assets\n"
     ]
    },
    {
     "name": "stderr",
     "output_type": "stream",
     "text": [
      "INFO:tensorflow:Assets written to: model2\\assets\n"
     ]
    },
    {
     "name": "stdout",
     "output_type": "stream",
     "text": [
      "Epoch 3/100\n",
      "998/998 [==============================] - 10s 10ms/step - loss: 0.2459 - root_mean_squared_error: 0.4959 - val_loss: 0.5697 - val_root_mean_squared_error: 0.7548\n"
     ]
    },
    {
     "name": "stderr",
     "output_type": "stream",
     "text": [
      "WARNING:absl:Found untraced functions such as gru_cell_32_layer_call_fn, gru_cell_32_layer_call_and_return_conditional_losses, gru_cell_32_layer_call_fn, gru_cell_32_layer_call_and_return_conditional_losses, gru_cell_32_layer_call_and_return_conditional_losses while saving (showing 5 of 5). These functions will not be directly callable after loading.\n"
     ]
    },
    {
     "name": "stdout",
     "output_type": "stream",
     "text": [
      "INFO:tensorflow:Assets written to: model2\\assets\n"
     ]
    },
    {
     "name": "stderr",
     "output_type": "stream",
     "text": [
      "INFO:tensorflow:Assets written to: model2\\assets\n"
     ]
    },
    {
     "name": "stdout",
     "output_type": "stream",
     "text": [
      "Epoch 4/100\n",
      "998/998 [==============================] - 11s 11ms/step - loss: 0.2339 - root_mean_squared_error: 0.4836 - val_loss: 0.5066 - val_root_mean_squared_error: 0.7117\n"
     ]
    },
    {
     "name": "stderr",
     "output_type": "stream",
     "text": [
      "WARNING:absl:Found untraced functions such as gru_cell_32_layer_call_fn, gru_cell_32_layer_call_and_return_conditional_losses, gru_cell_32_layer_call_fn, gru_cell_32_layer_call_and_return_conditional_losses, gru_cell_32_layer_call_and_return_conditional_losses while saving (showing 5 of 5). These functions will not be directly callable after loading.\n"
     ]
    },
    {
     "name": "stdout",
     "output_type": "stream",
     "text": [
      "INFO:tensorflow:Assets written to: model2\\assets\n"
     ]
    },
    {
     "name": "stderr",
     "output_type": "stream",
     "text": [
      "INFO:tensorflow:Assets written to: model2\\assets\n"
     ]
    },
    {
     "name": "stdout",
     "output_type": "stream",
     "text": [
      "Epoch 5/100\n",
      "998/998 [==============================] - 11s 11ms/step - loss: 0.2277 - root_mean_squared_error: 0.4772 - val_loss: 0.5420 - val_root_mean_squared_error: 0.7362\n",
      "Epoch 6/100\n",
      "998/998 [==============================] - 11s 11ms/step - loss: 0.2226 - root_mean_squared_error: 0.4718 - val_loss: 0.5430 - val_root_mean_squared_error: 0.7369\n",
      "Epoch 7/100\n",
      "998/998 [==============================] - 11s 11ms/step - loss: 0.2178 - root_mean_squared_error: 0.4667 - val_loss: 0.5568 - val_root_mean_squared_error: 0.7462\n",
      "Epoch 8/100\n",
      "998/998 [==============================] - 11s 11ms/step - loss: 0.2131 - root_mean_squared_error: 0.4617 - val_loss: 0.5827 - val_root_mean_squared_error: 0.7634\n",
      "Epoch 9/100\n",
      "998/998 [==============================] - 11s 11ms/step - loss: 0.2102 - root_mean_squared_error: 0.4584 - val_loss: 0.5461 - val_root_mean_squared_error: 0.7390\n",
      "Epoch 10/100\n",
      "998/998 [==============================] - 11s 11ms/step - loss: 0.2067 - root_mean_squared_error: 0.4546 - val_loss: 0.5393 - val_root_mean_squared_error: 0.7344\n",
      "Epoch 11/100\n",
      "998/998 [==============================] - 11s 11ms/step - loss: 0.2041 - root_mean_squared_error: 0.4518 - val_loss: 0.5891 - val_root_mean_squared_error: 0.7675\n",
      "Epoch 12/100\n",
      "998/998 [==============================] - 11s 11ms/step - loss: 0.2027 - root_mean_squared_error: 0.4502 - val_loss: 0.5471 - val_root_mean_squared_error: 0.7396\n",
      "Epoch 13/100\n",
      "998/998 [==============================] - 11s 11ms/step - loss: 0.2004 - root_mean_squared_error: 0.4477 - val_loss: 0.5176 - val_root_mean_squared_error: 0.7195\n",
      "Epoch 14/100\n",
      "998/998 [==============================] - 11s 11ms/step - loss: 0.1985 - root_mean_squared_error: 0.4456 - val_loss: 0.5517 - val_root_mean_squared_error: 0.7428\n",
      "Epoch 15/100\n",
      "998/998 [==============================] - 11s 11ms/step - loss: 0.1971 - root_mean_squared_error: 0.4440 - val_loss: 0.5469 - val_root_mean_squared_error: 0.7395\n",
      "Epoch 16/100\n",
      "998/998 [==============================] - 11s 11ms/step - loss: 0.1955 - root_mean_squared_error: 0.4421 - val_loss: 0.5658 - val_root_mean_squared_error: 0.7522\n",
      "Epoch 17/100\n",
      "998/998 [==============================] - 12s 12ms/step - loss: 0.1938 - root_mean_squared_error: 0.4403 - val_loss: 0.5754 - val_root_mean_squared_error: 0.7586\n",
      "Epoch 18/100\n",
      "998/998 [==============================] - 14s 14ms/step - loss: 0.1926 - root_mean_squared_error: 0.4389 - val_loss: 0.5960 - val_root_mean_squared_error: 0.7720\n",
      "Epoch 19/100\n",
      "998/998 [==============================] - 14s 14ms/step - loss: 0.1913 - root_mean_squared_error: 0.4373 - val_loss: 0.5643 - val_root_mean_squared_error: 0.7512\n",
      "Epoch 20/100\n",
      "998/998 [==============================] - 13s 13ms/step - loss: 0.1906 - root_mean_squared_error: 0.4365 - val_loss: 0.5780 - val_root_mean_squared_error: 0.7602\n",
      "Epoch 21/100\n",
      "998/998 [==============================] - 13s 13ms/step - loss: 0.1891 - root_mean_squared_error: 0.4349 - val_loss: 0.5569 - val_root_mean_squared_error: 0.7462\n",
      "Epoch 22/100\n",
      "998/998 [==============================] - 13s 13ms/step - loss: 0.1882 - root_mean_squared_error: 0.4339 - val_loss: 0.6419 - val_root_mean_squared_error: 0.8012\n",
      "Epoch 23/100\n",
      "998/998 [==============================] - 13s 13ms/step - loss: 0.1874 - root_mean_squared_error: 0.4328 - val_loss: 0.5705 - val_root_mean_squared_error: 0.7553\n",
      "Epoch 24/100\n",
      "998/998 [==============================] - 13s 13ms/step - loss: 0.1864 - root_mean_squared_error: 0.4317 - val_loss: 0.5451 - val_root_mean_squared_error: 0.7383\n",
      "Epoch 25/100\n",
      "998/998 [==============================] - 13s 13ms/step - loss: 0.1860 - root_mean_squared_error: 0.4312 - val_loss: 0.5067 - val_root_mean_squared_error: 0.7118\n",
      "Epoch 26/100\n",
      "998/998 [==============================] - 13s 13ms/step - loss: 0.1846 - root_mean_squared_error: 0.4297 - val_loss: 0.5172 - val_root_mean_squared_error: 0.7191\n",
      "Epoch 27/100\n",
      "998/998 [==============================] - 13s 13ms/step - loss: 0.1841 - root_mean_squared_error: 0.4290 - val_loss: 0.5648 - val_root_mean_squared_error: 0.7515\n",
      "Epoch 28/100\n",
      "998/998 [==============================] - 13s 13ms/step - loss: 0.1832 - root_mean_squared_error: 0.4280 - val_loss: 0.5337 - val_root_mean_squared_error: 0.7305\n",
      "Epoch 29/100\n",
      "998/998 [==============================] - 13s 13ms/step - loss: 0.1826 - root_mean_squared_error: 0.4273 - val_loss: 0.6018 - val_root_mean_squared_error: 0.7758\n",
      "Epoch 30/100\n",
      "998/998 [==============================] - 13s 13ms/step - loss: 0.1820 - root_mean_squared_error: 0.4266 - val_loss: 0.5344 - val_root_mean_squared_error: 0.7310\n",
      "Epoch 31/100\n",
      "998/998 [==============================] - 13s 13ms/step - loss: 0.1812 - root_mean_squared_error: 0.4257 - val_loss: 0.5542 - val_root_mean_squared_error: 0.7444\n",
      "Epoch 32/100\n",
      "998/998 [==============================] - 13s 13ms/step - loss: 0.1804 - root_mean_squared_error: 0.4247 - val_loss: 0.5357 - val_root_mean_squared_error: 0.7319\n",
      "Epoch 33/100\n",
      "998/998 [==============================] - 13s 13ms/step - loss: 0.1799 - root_mean_squared_error: 0.4241 - val_loss: 0.4954 - val_root_mean_squared_error: 0.7038\n"
     ]
    },
    {
     "name": "stderr",
     "output_type": "stream",
     "text": [
      "WARNING:absl:Found untraced functions such as gru_cell_32_layer_call_fn, gru_cell_32_layer_call_and_return_conditional_losses, gru_cell_32_layer_call_fn, gru_cell_32_layer_call_and_return_conditional_losses, gru_cell_32_layer_call_and_return_conditional_losses while saving (showing 5 of 5). These functions will not be directly callable after loading.\n"
     ]
    },
    {
     "name": "stdout",
     "output_type": "stream",
     "text": [
      "INFO:tensorflow:Assets written to: model2\\assets\n"
     ]
    },
    {
     "name": "stderr",
     "output_type": "stream",
     "text": [
      "INFO:tensorflow:Assets written to: model2\\assets\n"
     ]
    },
    {
     "name": "stdout",
     "output_type": "stream",
     "text": [
      "Epoch 34/100\n",
      "998/998 [==============================] - 12s 12ms/step - loss: 0.1790 - root_mean_squared_error: 0.4231 - val_loss: 0.5670 - val_root_mean_squared_error: 0.7530\n",
      "Epoch 35/100\n",
      "998/998 [==============================] - 12s 12ms/step - loss: 0.1785 - root_mean_squared_error: 0.4225 - val_loss: 0.4959 - val_root_mean_squared_error: 0.7042\n",
      "Epoch 36/100\n",
      "998/998 [==============================] - 12s 12ms/step - loss: 0.1780 - root_mean_squared_error: 0.4219 - val_loss: 0.4988 - val_root_mean_squared_error: 0.7062\n",
      "Epoch 37/100\n",
      "998/998 [==============================] - 12s 12ms/step - loss: 0.1772 - root_mean_squared_error: 0.4210 - val_loss: 0.5509 - val_root_mean_squared_error: 0.7422\n",
      "Epoch 38/100\n",
      "998/998 [==============================] - 14s 14ms/step - loss: 0.1766 - root_mean_squared_error: 0.4202 - val_loss: 0.5652 - val_root_mean_squared_error: 0.7518\n",
      "Epoch 39/100\n",
      "998/998 [==============================] - 15s 15ms/step - loss: 0.1758 - root_mean_squared_error: 0.4193 - val_loss: 0.5288 - val_root_mean_squared_error: 0.7272\n",
      "Epoch 40/100\n",
      "998/998 [==============================] - 15s 15ms/step - loss: 0.1757 - root_mean_squared_error: 0.4192 - val_loss: 0.5124 - val_root_mean_squared_error: 0.7158\n",
      "Epoch 41/100\n",
      "998/998 [==============================] - 13s 13ms/step - loss: 0.1749 - root_mean_squared_error: 0.4182 - val_loss: 0.5171 - val_root_mean_squared_error: 0.7191\n",
      "Epoch 42/100\n",
      "998/998 [==============================] - 14s 14ms/step - loss: 0.1743 - root_mean_squared_error: 0.4175 - val_loss: 0.5781 - val_root_mean_squared_error: 0.7603\n",
      "Epoch 43/100\n",
      "998/998 [==============================] - 13s 13ms/step - loss: 0.1738 - root_mean_squared_error: 0.4169 - val_loss: 0.5350 - val_root_mean_squared_error: 0.7314\n",
      "Epoch 44/100\n",
      "998/998 [==============================] - 13s 13ms/step - loss: 0.1729 - root_mean_squared_error: 0.4158 - val_loss: 0.4895 - val_root_mean_squared_error: 0.6996\n"
     ]
    },
    {
     "name": "stderr",
     "output_type": "stream",
     "text": [
      "WARNING:absl:Found untraced functions such as gru_cell_32_layer_call_fn, gru_cell_32_layer_call_and_return_conditional_losses, gru_cell_32_layer_call_fn, gru_cell_32_layer_call_and_return_conditional_losses, gru_cell_32_layer_call_and_return_conditional_losses while saving (showing 5 of 5). These functions will not be directly callable after loading.\n"
     ]
    },
    {
     "name": "stdout",
     "output_type": "stream",
     "text": [
      "INFO:tensorflow:Assets written to: model2\\assets\n"
     ]
    },
    {
     "name": "stderr",
     "output_type": "stream",
     "text": [
      "INFO:tensorflow:Assets written to: model2\\assets\n"
     ]
    },
    {
     "name": "stdout",
     "output_type": "stream",
     "text": [
      "Epoch 45/100\n",
      "998/998 [==============================] - 14s 14ms/step - loss: 0.1726 - root_mean_squared_error: 0.4155 - val_loss: 0.5135 - val_root_mean_squared_error: 0.7166\n",
      "Epoch 46/100\n",
      "998/998 [==============================] - 15s 15ms/step - loss: 0.1720 - root_mean_squared_error: 0.4147 - val_loss: 0.5422 - val_root_mean_squared_error: 0.7363\n",
      "Epoch 47/100\n",
      "998/998 [==============================] - 20s 20ms/step - loss: 0.1717 - root_mean_squared_error: 0.4144 - val_loss: 0.5648 - val_root_mean_squared_error: 0.7515\n",
      "Epoch 48/100\n",
      "998/998 [==============================] - 20s 20ms/step - loss: 0.1709 - root_mean_squared_error: 0.4134 - val_loss: 0.5143 - val_root_mean_squared_error: 0.7172\n",
      "Epoch 49/100\n",
      "998/998 [==============================] - 17s 17ms/step - loss: 0.1706 - root_mean_squared_error: 0.4131 - val_loss: 0.5572 - val_root_mean_squared_error: 0.7464\n",
      "Epoch 50/100\n",
      "998/998 [==============================] - 20s 20ms/step - loss: 0.1703 - root_mean_squared_error: 0.4127 - val_loss: 0.5212 - val_root_mean_squared_error: 0.7219\n",
      "Epoch 51/100\n",
      "998/998 [==============================] - 20s 20ms/step - loss: 0.1702 - root_mean_squared_error: 0.4126 - val_loss: 0.5174 - val_root_mean_squared_error: 0.7193\n",
      "Epoch 52/100\n",
      "998/998 [==============================] - 19s 20ms/step - loss: 0.1694 - root_mean_squared_error: 0.4116 - val_loss: 0.5254 - val_root_mean_squared_error: 0.7248\n",
      "Epoch 53/100\n",
      "998/998 [==============================] - 17s 17ms/step - loss: 0.1688 - root_mean_squared_error: 0.4108 - val_loss: 0.5164 - val_root_mean_squared_error: 0.7186\n",
      "Epoch 54/100\n",
      "998/998 [==============================] - 17s 17ms/step - loss: 0.1686 - root_mean_squared_error: 0.4106 - val_loss: 0.5336 - val_root_mean_squared_error: 0.7305\n",
      "Epoch 55/100\n",
      "998/998 [==============================] - 15s 15ms/step - loss: 0.1678 - root_mean_squared_error: 0.4097 - val_loss: 0.5192 - val_root_mean_squared_error: 0.7205\n",
      "Epoch 56/100\n",
      "998/998 [==============================] - 14s 14ms/step - loss: 0.1677 - root_mean_squared_error: 0.4095 - val_loss: 0.5632 - val_root_mean_squared_error: 0.7504\n",
      "Epoch 57/100\n",
      "998/998 [==============================] - 14s 14ms/step - loss: 0.1675 - root_mean_squared_error: 0.4092 - val_loss: 0.5462 - val_root_mean_squared_error: 0.7390\n",
      "Epoch 58/100\n",
      "998/998 [==============================] - 15s 15ms/step - loss: 0.1669 - root_mean_squared_error: 0.4086 - val_loss: 0.5101 - val_root_mean_squared_error: 0.7142\n",
      "Epoch 59/100\n",
      "998/998 [==============================] - 14s 14ms/step - loss: 0.1665 - root_mean_squared_error: 0.4081 - val_loss: 0.4755 - val_root_mean_squared_error: 0.6896\n"
     ]
    },
    {
     "name": "stderr",
     "output_type": "stream",
     "text": [
      "WARNING:absl:Found untraced functions such as gru_cell_32_layer_call_fn, gru_cell_32_layer_call_and_return_conditional_losses, gru_cell_32_layer_call_fn, gru_cell_32_layer_call_and_return_conditional_losses, gru_cell_32_layer_call_and_return_conditional_losses while saving (showing 5 of 5). These functions will not be directly callable after loading.\n"
     ]
    },
    {
     "name": "stdout",
     "output_type": "stream",
     "text": [
      "INFO:tensorflow:Assets written to: model2\\assets\n"
     ]
    },
    {
     "name": "stderr",
     "output_type": "stream",
     "text": [
      "INFO:tensorflow:Assets written to: model2\\assets\n"
     ]
    },
    {
     "name": "stdout",
     "output_type": "stream",
     "text": [
      "Epoch 60/100\n",
      "998/998 [==============================] - 13s 13ms/step - loss: 0.1666 - root_mean_squared_error: 0.4082 - val_loss: 0.5407 - val_root_mean_squared_error: 0.7353\n",
      "Epoch 61/100\n",
      "998/998 [==============================] - 13s 13ms/step - loss: 0.1655 - root_mean_squared_error: 0.4068 - val_loss: 0.5291 - val_root_mean_squared_error: 0.7274\n",
      "Epoch 62/100\n",
      "998/998 [==============================] - 12s 12ms/step - loss: 0.1653 - root_mean_squared_error: 0.4066 - val_loss: 0.5204 - val_root_mean_squared_error: 0.7214\n",
      "Epoch 63/100\n",
      "998/998 [==============================] - 13s 13ms/step - loss: 0.1651 - root_mean_squared_error: 0.4064 - val_loss: 0.5106 - val_root_mean_squared_error: 0.7146\n",
      "Epoch 64/100\n",
      "998/998 [==============================] - 12s 12ms/step - loss: 0.1649 - root_mean_squared_error: 0.4061 - val_loss: 0.5486 - val_root_mean_squared_error: 0.7407\n",
      "Epoch 65/100\n",
      "998/998 [==============================] - 11s 11ms/step - loss: 0.1646 - root_mean_squared_error: 0.4057 - val_loss: 0.5279 - val_root_mean_squared_error: 0.7266\n",
      "Epoch 66/100\n",
      "998/998 [==============================] - 11s 11ms/step - loss: 0.1646 - root_mean_squared_error: 0.4057 - val_loss: 0.5319 - val_root_mean_squared_error: 0.7293\n",
      "Epoch 67/100\n",
      "998/998 [==============================] - 11s 11ms/step - loss: 0.1639 - root_mean_squared_error: 0.4048 - val_loss: 0.5544 - val_root_mean_squared_error: 0.7446\n",
      "Epoch 68/100\n",
      "998/998 [==============================] - 11s 11ms/step - loss: 0.1636 - root_mean_squared_error: 0.4045 - val_loss: 0.5141 - val_root_mean_squared_error: 0.7170\n",
      "Epoch 69/100\n",
      "998/998 [==============================] - 11s 11ms/step - loss: 0.1630 - root_mean_squared_error: 0.4038 - val_loss: 0.5114 - val_root_mean_squared_error: 0.7151\n",
      "Epoch 70/100\n",
      "998/998 [==============================] - 11s 11ms/step - loss: 0.1625 - root_mean_squared_error: 0.4031 - val_loss: 0.4968 - val_root_mean_squared_error: 0.7049\n",
      "Epoch 71/100\n",
      "998/998 [==============================] - 11s 11ms/step - loss: 0.1626 - root_mean_squared_error: 0.4032 - val_loss: 0.4886 - val_root_mean_squared_error: 0.6990\n",
      "Epoch 72/100\n",
      "998/998 [==============================] - 11s 11ms/step - loss: 0.1620 - root_mean_squared_error: 0.4025 - val_loss: 0.4861 - val_root_mean_squared_error: 0.6972\n",
      "Epoch 73/100\n",
      "998/998 [==============================] - 11s 11ms/step - loss: 0.1621 - root_mean_squared_error: 0.4026 - val_loss: 0.5029 - val_root_mean_squared_error: 0.7092\n",
      "Epoch 74/100\n",
      "998/998 [==============================] - 11s 11ms/step - loss: 0.1613 - root_mean_squared_error: 0.4017 - val_loss: 0.4921 - val_root_mean_squared_error: 0.7015\n",
      "Epoch 75/100\n",
      "998/998 [==============================] - 11s 11ms/step - loss: 0.1614 - root_mean_squared_error: 0.4017 - val_loss: 0.5353 - val_root_mean_squared_error: 0.7316\n",
      "Epoch 76/100\n",
      "998/998 [==============================] - 11s 11ms/step - loss: 0.1607 - root_mean_squared_error: 0.4008 - val_loss: 0.5418 - val_root_mean_squared_error: 0.7360\n",
      "Epoch 77/100\n",
      "998/998 [==============================] - 11s 11ms/step - loss: 0.1605 - root_mean_squared_error: 0.4006 - val_loss: 0.5407 - val_root_mean_squared_error: 0.7353\n",
      "Epoch 78/100\n",
      "998/998 [==============================] - 12s 12ms/step - loss: 0.1600 - root_mean_squared_error: 0.4000 - val_loss: 0.5440 - val_root_mean_squared_error: 0.7375\n",
      "Epoch 79/100\n",
      "998/998 [==============================] - 13s 13ms/step - loss: 0.1599 - root_mean_squared_error: 0.3998 - val_loss: 0.5398 - val_root_mean_squared_error: 0.7347\n",
      "Epoch 80/100\n",
      "998/998 [==============================] - 12s 13ms/step - loss: 0.1594 - root_mean_squared_error: 0.3992 - val_loss: 0.5031 - val_root_mean_squared_error: 0.7093\n",
      "Epoch 81/100\n",
      "998/998 [==============================] - 12s 12ms/step - loss: 0.1593 - root_mean_squared_error: 0.3991 - val_loss: 0.4993 - val_root_mean_squared_error: 0.7066\n",
      "Epoch 82/100\n",
      "998/998 [==============================] - 12s 12ms/step - loss: 0.1593 - root_mean_squared_error: 0.3991 - val_loss: 0.5152 - val_root_mean_squared_error: 0.7178\n",
      "Epoch 83/100\n",
      "998/998 [==============================] - 13s 13ms/step - loss: 0.1586 - root_mean_squared_error: 0.3982 - val_loss: 0.4792 - val_root_mean_squared_error: 0.6922\n",
      "Epoch 84/100\n",
      "998/998 [==============================] - 12s 12ms/step - loss: 0.1585 - root_mean_squared_error: 0.3981 - val_loss: 0.5296 - val_root_mean_squared_error: 0.7277\n",
      "Epoch 85/100\n",
      "998/998 [==============================] - 12s 12ms/step - loss: 0.1579 - root_mean_squared_error: 0.3973 - val_loss: 0.5092 - val_root_mean_squared_error: 0.7136\n",
      "Epoch 86/100\n",
      "998/998 [==============================] - 12s 12ms/step - loss: 0.1581 - root_mean_squared_error: 0.3976 - val_loss: 0.5341 - val_root_mean_squared_error: 0.7308\n",
      "Epoch 87/100\n",
      "998/998 [==============================] - 12s 12ms/step - loss: 0.1579 - root_mean_squared_error: 0.3973 - val_loss: 0.5241 - val_root_mean_squared_error: 0.7239\n",
      "Epoch 88/100\n",
      "998/998 [==============================] - 12s 12ms/step - loss: 0.1572 - root_mean_squared_error: 0.3964 - val_loss: 0.4966 - val_root_mean_squared_error: 0.7047\n",
      "Epoch 89/100\n",
      "998/998 [==============================] - 12s 12ms/step - loss: 0.1571 - root_mean_squared_error: 0.3964 - val_loss: 0.5338 - val_root_mean_squared_error: 0.7306\n",
      "Epoch 90/100\n",
      "998/998 [==============================] - 12s 12ms/step - loss: 0.1565 - root_mean_squared_error: 0.3955 - val_loss: 0.4987 - val_root_mean_squared_error: 0.7062\n",
      "Epoch 91/100\n",
      "998/998 [==============================] - 12s 12ms/step - loss: 0.1562 - root_mean_squared_error: 0.3953 - val_loss: 0.5065 - val_root_mean_squared_error: 0.7117\n",
      "Epoch 92/100\n",
      "998/998 [==============================] - 12s 12ms/step - loss: 0.1558 - root_mean_squared_error: 0.3947 - val_loss: 0.5054 - val_root_mean_squared_error: 0.7109\n",
      "Epoch 93/100\n",
      "998/998 [==============================] - 13s 13ms/step - loss: 0.1556 - root_mean_squared_error: 0.3944 - val_loss: 0.5352 - val_root_mean_squared_error: 0.7315\n",
      "Epoch 94/100\n",
      "998/998 [==============================] - 15s 15ms/step - loss: 0.1555 - root_mean_squared_error: 0.3943 - val_loss: 0.5156 - val_root_mean_squared_error: 0.7181\n",
      "Epoch 95/100\n",
      "998/998 [==============================] - 13s 13ms/step - loss: 0.1548 - root_mean_squared_error: 0.3934 - val_loss: 0.5065 - val_root_mean_squared_error: 0.7117\n",
      "Epoch 96/100\n",
      "998/998 [==============================] - 13s 13ms/step - loss: 0.1548 - root_mean_squared_error: 0.3934 - val_loss: 0.5736 - val_root_mean_squared_error: 0.7574\n",
      "Epoch 97/100\n",
      "998/998 [==============================] - 12s 12ms/step - loss: 0.1548 - root_mean_squared_error: 0.3934 - val_loss: 0.4876 - val_root_mean_squared_error: 0.6983\n",
      "Epoch 98/100\n",
      "998/998 [==============================] - 13s 13ms/step - loss: 0.1538 - root_mean_squared_error: 0.3922 - val_loss: 0.5497 - val_root_mean_squared_error: 0.7414\n",
      "Epoch 99/100\n",
      "998/998 [==============================] - 14s 14ms/step - loss: 0.1539 - root_mean_squared_error: 0.3923 - val_loss: 0.5064 - val_root_mean_squared_error: 0.7116\n",
      "Epoch 100/100\n",
      "998/998 [==============================] - 13s 13ms/step - loss: 0.1535 - root_mean_squared_error: 0.3918 - val_loss: 0.5299 - val_root_mean_squared_error: 0.7279\n"
     ]
    }
   ],
   "source": [
    "history1 = model2.fit(X3_train, y3_train, validation_data=(X3_val, y3_val), epochs=100, callbacks=[cp2])"
   ]
  },
  {
   "cell_type": "code",
   "execution_count": 609,
   "metadata": {},
   "outputs": [
    {
     "name": "stdout",
     "output_type": "stream",
     "text": [
      "Model: \"sequential_49\"\n",
      "_________________________________________________________________\n",
      "Layer (type)                 Output Shape              Param #   \n",
      "=================================================================\n",
      "gru_32 (GRU)                 (None, 128)               52224     \n",
      "_________________________________________________________________\n",
      "dense_98 (Dense)             (None, 8)                 1032      \n",
      "_________________________________________________________________\n",
      "dense_99 (Dense)             (None, 1)                 9         \n",
      "=================================================================\n",
      "Total params: 53,265\n",
      "Trainable params: 53,265\n",
      "Non-trainable params: 0\n",
      "_________________________________________________________________\n"
     ]
    }
   ],
   "source": [
    "#PT\n",
    "model3 = Sequential()\n",
    "model3.add(InputLayer((6, 6)))\n",
    "model3.add(GRU(128))\n",
    "model3.add(Dense(8, 'relu'))\n",
    "model3.add(Dense(1, 'linear'))\n",
    "\n",
    "model2.summary()"
   ]
  },
  {
   "cell_type": "code",
   "execution_count": 610,
   "metadata": {},
   "outputs": [],
   "source": [
    "cp3 = ModelCheckpoint('model3/', save_best_only=True)\n",
    "model3.compile(loss=MeanSquaredError(), optimizer=Adam(learning_rate=0.0001), metrics=[RootMeanSquaredError()])"
   ]
  },
  {
   "cell_type": "code",
   "execution_count": 611,
   "metadata": {},
   "outputs": [
    {
     "name": "stdout",
     "output_type": "stream",
     "text": [
      "Epoch 1/100\n",
      "998/998 [==============================] - 13s 11ms/step - loss: 0.5623 - root_mean_squared_error: 0.7499 - val_loss: 0.5299 - val_root_mean_squared_error: 0.7279\n"
     ]
    },
    {
     "name": "stderr",
     "output_type": "stream",
     "text": [
      "WARNING:absl:Found untraced functions such as gru_cell_33_layer_call_fn, gru_cell_33_layer_call_and_return_conditional_losses, gru_cell_33_layer_call_fn, gru_cell_33_layer_call_and_return_conditional_losses, gru_cell_33_layer_call_and_return_conditional_losses while saving (showing 5 of 5). These functions will not be directly callable after loading.\n"
     ]
    },
    {
     "name": "stdout",
     "output_type": "stream",
     "text": [
      "INFO:tensorflow:Assets written to: model3\\assets\n"
     ]
    },
    {
     "name": "stderr",
     "output_type": "stream",
     "text": [
      "INFO:tensorflow:Assets written to: model3\\assets\n"
     ]
    },
    {
     "name": "stdout",
     "output_type": "stream",
     "text": [
      "Epoch 2/100\n",
      "998/998 [==============================] - 11s 11ms/step - loss: 0.4949 - root_mean_squared_error: 0.7035 - val_loss: 0.5211 - val_root_mean_squared_error: 0.7219\n"
     ]
    },
    {
     "name": "stderr",
     "output_type": "stream",
     "text": [
      "WARNING:absl:Found untraced functions such as gru_cell_33_layer_call_fn, gru_cell_33_layer_call_and_return_conditional_losses, gru_cell_33_layer_call_fn, gru_cell_33_layer_call_and_return_conditional_losses, gru_cell_33_layer_call_and_return_conditional_losses while saving (showing 5 of 5). These functions will not be directly callable after loading.\n"
     ]
    },
    {
     "name": "stdout",
     "output_type": "stream",
     "text": [
      "INFO:tensorflow:Assets written to: model3\\assets\n"
     ]
    },
    {
     "name": "stderr",
     "output_type": "stream",
     "text": [
      "INFO:tensorflow:Assets written to: model3\\assets\n"
     ]
    },
    {
     "name": "stdout",
     "output_type": "stream",
     "text": [
      "Epoch 3/100\n",
      "998/998 [==============================] - 12s 12ms/step - loss: 0.4873 - root_mean_squared_error: 0.6981 - val_loss: 0.5136 - val_root_mean_squared_error: 0.7166\n"
     ]
    },
    {
     "name": "stderr",
     "output_type": "stream",
     "text": [
      "WARNING:absl:Found untraced functions such as gru_cell_33_layer_call_fn, gru_cell_33_layer_call_and_return_conditional_losses, gru_cell_33_layer_call_fn, gru_cell_33_layer_call_and_return_conditional_losses, gru_cell_33_layer_call_and_return_conditional_losses while saving (showing 5 of 5). These functions will not be directly callable after loading.\n"
     ]
    },
    {
     "name": "stdout",
     "output_type": "stream",
     "text": [
      "INFO:tensorflow:Assets written to: model3\\assets\n"
     ]
    },
    {
     "name": "stderr",
     "output_type": "stream",
     "text": [
      "INFO:tensorflow:Assets written to: model3\\assets\n"
     ]
    },
    {
     "name": "stdout",
     "output_type": "stream",
     "text": [
      "Epoch 4/100\n",
      "998/998 [==============================] - 11s 11ms/step - loss: 0.4820 - root_mean_squared_error: 0.6943 - val_loss: 0.5109 - val_root_mean_squared_error: 0.7148\n"
     ]
    },
    {
     "name": "stderr",
     "output_type": "stream",
     "text": [
      "WARNING:absl:Found untraced functions such as gru_cell_33_layer_call_fn, gru_cell_33_layer_call_and_return_conditional_losses, gru_cell_33_layer_call_fn, gru_cell_33_layer_call_and_return_conditional_losses, gru_cell_33_layer_call_and_return_conditional_losses while saving (showing 5 of 5). These functions will not be directly callable after loading.\n"
     ]
    },
    {
     "name": "stdout",
     "output_type": "stream",
     "text": [
      "INFO:tensorflow:Assets written to: model3\\assets\n"
     ]
    },
    {
     "name": "stderr",
     "output_type": "stream",
     "text": [
      "INFO:tensorflow:Assets written to: model3\\assets\n"
     ]
    },
    {
     "name": "stdout",
     "output_type": "stream",
     "text": [
      "Epoch 5/100\n",
      "998/998 [==============================] - 11s 11ms/step - loss: 0.4780 - root_mean_squared_error: 0.6914 - val_loss: 0.5025 - val_root_mean_squared_error: 0.7089\n"
     ]
    },
    {
     "name": "stderr",
     "output_type": "stream",
     "text": [
      "WARNING:absl:Found untraced functions such as gru_cell_33_layer_call_fn, gru_cell_33_layer_call_and_return_conditional_losses, gru_cell_33_layer_call_fn, gru_cell_33_layer_call_and_return_conditional_losses, gru_cell_33_layer_call_and_return_conditional_losses while saving (showing 5 of 5). These functions will not be directly callable after loading.\n"
     ]
    },
    {
     "name": "stdout",
     "output_type": "stream",
     "text": [
      "INFO:tensorflow:Assets written to: model3\\assets\n"
     ]
    },
    {
     "name": "stderr",
     "output_type": "stream",
     "text": [
      "INFO:tensorflow:Assets written to: model3\\assets\n"
     ]
    },
    {
     "name": "stdout",
     "output_type": "stream",
     "text": [
      "Epoch 6/100\n",
      "998/998 [==============================] - 11s 11ms/step - loss: 0.4751 - root_mean_squared_error: 0.6893 - val_loss: 0.5083 - val_root_mean_squared_error: 0.7129\n",
      "Epoch 7/100\n",
      "998/998 [==============================] - 11s 11ms/step - loss: 0.4725 - root_mean_squared_error: 0.6874 - val_loss: 0.5126 - val_root_mean_squared_error: 0.7159\n",
      "Epoch 8/100\n",
      "998/998 [==============================] - 11s 11ms/step - loss: 0.4702 - root_mean_squared_error: 0.6857 - val_loss: 0.4990 - val_root_mean_squared_error: 0.7064\n"
     ]
    },
    {
     "name": "stderr",
     "output_type": "stream",
     "text": [
      "WARNING:absl:Found untraced functions such as gru_cell_33_layer_call_fn, gru_cell_33_layer_call_and_return_conditional_losses, gru_cell_33_layer_call_fn, gru_cell_33_layer_call_and_return_conditional_losses, gru_cell_33_layer_call_and_return_conditional_losses while saving (showing 5 of 5). These functions will not be directly callable after loading.\n"
     ]
    },
    {
     "name": "stdout",
     "output_type": "stream",
     "text": [
      "INFO:tensorflow:Assets written to: model3\\assets\n"
     ]
    },
    {
     "name": "stderr",
     "output_type": "stream",
     "text": [
      "INFO:tensorflow:Assets written to: model3\\assets\n"
     ]
    },
    {
     "name": "stdout",
     "output_type": "stream",
     "text": [
      "Epoch 9/100\n",
      "998/998 [==============================] - 11s 11ms/step - loss: 0.4684 - root_mean_squared_error: 0.6844 - val_loss: 0.4965 - val_root_mean_squared_error: 0.7046\n"
     ]
    },
    {
     "name": "stderr",
     "output_type": "stream",
     "text": [
      "WARNING:absl:Found untraced functions such as gru_cell_33_layer_call_fn, gru_cell_33_layer_call_and_return_conditional_losses, gru_cell_33_layer_call_fn, gru_cell_33_layer_call_and_return_conditional_losses, gru_cell_33_layer_call_and_return_conditional_losses while saving (showing 5 of 5). These functions will not be directly callable after loading.\n"
     ]
    },
    {
     "name": "stdout",
     "output_type": "stream",
     "text": [
      "INFO:tensorflow:Assets written to: model3\\assets\n"
     ]
    },
    {
     "name": "stderr",
     "output_type": "stream",
     "text": [
      "INFO:tensorflow:Assets written to: model3\\assets\n"
     ]
    },
    {
     "name": "stdout",
     "output_type": "stream",
     "text": [
      "Epoch 10/100\n",
      "998/998 [==============================] - 11s 11ms/step - loss: 0.4665 - root_mean_squared_error: 0.6830 - val_loss: 0.4992 - val_root_mean_squared_error: 0.7065\n",
      "Epoch 11/100\n",
      "998/998 [==============================] - 11s 11ms/step - loss: 0.4649 - root_mean_squared_error: 0.6818 - val_loss: 0.5049 - val_root_mean_squared_error: 0.7106\n",
      "Epoch 12/100\n",
      "998/998 [==============================] - 11s 11ms/step - loss: 0.4635 - root_mean_squared_error: 0.6808 - val_loss: 0.5027 - val_root_mean_squared_error: 0.7090\n",
      "Epoch 13/100\n",
      "998/998 [==============================] - 11s 11ms/step - loss: 0.4620 - root_mean_squared_error: 0.6797 - val_loss: 0.4957 - val_root_mean_squared_error: 0.7041\n"
     ]
    },
    {
     "name": "stderr",
     "output_type": "stream",
     "text": [
      "WARNING:absl:Found untraced functions such as gru_cell_33_layer_call_fn, gru_cell_33_layer_call_and_return_conditional_losses, gru_cell_33_layer_call_fn, gru_cell_33_layer_call_and_return_conditional_losses, gru_cell_33_layer_call_and_return_conditional_losses while saving (showing 5 of 5). These functions will not be directly callable after loading.\n"
     ]
    },
    {
     "name": "stdout",
     "output_type": "stream",
     "text": [
      "INFO:tensorflow:Assets written to: model3\\assets\n"
     ]
    },
    {
     "name": "stderr",
     "output_type": "stream",
     "text": [
      "INFO:tensorflow:Assets written to: model3\\assets\n"
     ]
    },
    {
     "name": "stdout",
     "output_type": "stream",
     "text": [
      "Epoch 14/100\n",
      "998/998 [==============================] - 11s 11ms/step - loss: 0.4605 - root_mean_squared_error: 0.6786 - val_loss: 0.4948 - val_root_mean_squared_error: 0.7034\n"
     ]
    },
    {
     "name": "stderr",
     "output_type": "stream",
     "text": [
      "WARNING:absl:Found untraced functions such as gru_cell_33_layer_call_fn, gru_cell_33_layer_call_and_return_conditional_losses, gru_cell_33_layer_call_fn, gru_cell_33_layer_call_and_return_conditional_losses, gru_cell_33_layer_call_and_return_conditional_losses while saving (showing 5 of 5). These functions will not be directly callable after loading.\n"
     ]
    },
    {
     "name": "stdout",
     "output_type": "stream",
     "text": [
      "INFO:tensorflow:Assets written to: model3\\assets\n"
     ]
    },
    {
     "name": "stderr",
     "output_type": "stream",
     "text": [
      "INFO:tensorflow:Assets written to: model3\\assets\n"
     ]
    },
    {
     "name": "stdout",
     "output_type": "stream",
     "text": [
      "Epoch 15/100\n",
      "998/998 [==============================] - 12s 12ms/step - loss: 0.4596 - root_mean_squared_error: 0.6779 - val_loss: 0.5014 - val_root_mean_squared_error: 0.7081\n",
      "Epoch 16/100\n",
      "998/998 [==============================] - 12s 12ms/step - loss: 0.4584 - root_mean_squared_error: 0.6770 - val_loss: 0.4931 - val_root_mean_squared_error: 0.7022\n"
     ]
    },
    {
     "name": "stderr",
     "output_type": "stream",
     "text": [
      "WARNING:absl:Found untraced functions such as gru_cell_33_layer_call_fn, gru_cell_33_layer_call_and_return_conditional_losses, gru_cell_33_layer_call_fn, gru_cell_33_layer_call_and_return_conditional_losses, gru_cell_33_layer_call_and_return_conditional_losses while saving (showing 5 of 5). These functions will not be directly callable after loading.\n"
     ]
    },
    {
     "name": "stdout",
     "output_type": "stream",
     "text": [
      "INFO:tensorflow:Assets written to: model3\\assets\n"
     ]
    },
    {
     "name": "stderr",
     "output_type": "stream",
     "text": [
      "INFO:tensorflow:Assets written to: model3\\assets\n"
     ]
    },
    {
     "name": "stdout",
     "output_type": "stream",
     "text": [
      "Epoch 17/100\n",
      "998/998 [==============================] - 12s 12ms/step - loss: 0.4576 - root_mean_squared_error: 0.6764 - val_loss: 0.5010 - val_root_mean_squared_error: 0.7078\n",
      "Epoch 18/100\n",
      "998/998 [==============================] - 12s 12ms/step - loss: 0.4569 - root_mean_squared_error: 0.6759 - val_loss: 0.4910 - val_root_mean_squared_error: 0.7007\n"
     ]
    },
    {
     "name": "stderr",
     "output_type": "stream",
     "text": [
      "WARNING:absl:Found untraced functions such as gru_cell_33_layer_call_fn, gru_cell_33_layer_call_and_return_conditional_losses, gru_cell_33_layer_call_fn, gru_cell_33_layer_call_and_return_conditional_losses, gru_cell_33_layer_call_and_return_conditional_losses while saving (showing 5 of 5). These functions will not be directly callable after loading.\n"
     ]
    },
    {
     "name": "stdout",
     "output_type": "stream",
     "text": [
      "INFO:tensorflow:Assets written to: model3\\assets\n"
     ]
    },
    {
     "name": "stderr",
     "output_type": "stream",
     "text": [
      "INFO:tensorflow:Assets written to: model3\\assets\n"
     ]
    },
    {
     "name": "stdout",
     "output_type": "stream",
     "text": [
      "Epoch 19/100\n",
      "998/998 [==============================] - 13s 13ms/step - loss: 0.4557 - root_mean_squared_error: 0.6751 - val_loss: 0.4922 - val_root_mean_squared_error: 0.7016\n",
      "Epoch 20/100\n",
      "998/998 [==============================] - 12s 12ms/step - loss: 0.4547 - root_mean_squared_error: 0.6743 - val_loss: 0.4853 - val_root_mean_squared_error: 0.6966\n"
     ]
    },
    {
     "name": "stderr",
     "output_type": "stream",
     "text": [
      "WARNING:absl:Found untraced functions such as gru_cell_33_layer_call_fn, gru_cell_33_layer_call_and_return_conditional_losses, gru_cell_33_layer_call_fn, gru_cell_33_layer_call_and_return_conditional_losses, gru_cell_33_layer_call_and_return_conditional_losses while saving (showing 5 of 5). These functions will not be directly callable after loading.\n"
     ]
    },
    {
     "name": "stdout",
     "output_type": "stream",
     "text": [
      "INFO:tensorflow:Assets written to: model3\\assets\n"
     ]
    },
    {
     "name": "stderr",
     "output_type": "stream",
     "text": [
      "INFO:tensorflow:Assets written to: model3\\assets\n"
     ]
    },
    {
     "name": "stdout",
     "output_type": "stream",
     "text": [
      "Epoch 21/100\n",
      "998/998 [==============================] - 13s 13ms/step - loss: 0.4541 - root_mean_squared_error: 0.6739 - val_loss: 0.4948 - val_root_mean_squared_error: 0.7034\n",
      "Epoch 22/100\n",
      "998/998 [==============================] - 15s 15ms/step - loss: 0.4536 - root_mean_squared_error: 0.6735 - val_loss: 0.4924 - val_root_mean_squared_error: 0.7017\n",
      "Epoch 23/100\n",
      "998/998 [==============================] - 11s 11ms/step - loss: 0.4527 - root_mean_squared_error: 0.6729 - val_loss: 0.4903 - val_root_mean_squared_error: 0.7002\n",
      "Epoch 24/100\n",
      "998/998 [==============================] - 11s 11ms/step - loss: 0.4514 - root_mean_squared_error: 0.6718 - val_loss: 0.5024 - val_root_mean_squared_error: 0.7088\n",
      "Epoch 25/100\n",
      "998/998 [==============================] - 11s 11ms/step - loss: 0.4507 - root_mean_squared_error: 0.6714 - val_loss: 0.4913 - val_root_mean_squared_error: 0.7010\n",
      "Epoch 26/100\n",
      "998/998 [==============================] - 11s 11ms/step - loss: 0.4500 - root_mean_squared_error: 0.6708 - val_loss: 0.4892 - val_root_mean_squared_error: 0.6994\n",
      "Epoch 27/100\n",
      "998/998 [==============================] - 11s 11ms/step - loss: 0.4499 - root_mean_squared_error: 0.6707 - val_loss: 0.4829 - val_root_mean_squared_error: 0.6949\n"
     ]
    },
    {
     "name": "stderr",
     "output_type": "stream",
     "text": [
      "WARNING:absl:Found untraced functions such as gru_cell_33_layer_call_fn, gru_cell_33_layer_call_and_return_conditional_losses, gru_cell_33_layer_call_fn, gru_cell_33_layer_call_and_return_conditional_losses, gru_cell_33_layer_call_and_return_conditional_losses while saving (showing 5 of 5). These functions will not be directly callable after loading.\n"
     ]
    },
    {
     "name": "stdout",
     "output_type": "stream",
     "text": [
      "INFO:tensorflow:Assets written to: model3\\assets\n"
     ]
    },
    {
     "name": "stderr",
     "output_type": "stream",
     "text": [
      "INFO:tensorflow:Assets written to: model3\\assets\n"
     ]
    },
    {
     "name": "stdout",
     "output_type": "stream",
     "text": [
      "Epoch 28/100\n",
      "998/998 [==============================] - 11s 11ms/step - loss: 0.4490 - root_mean_squared_error: 0.6701 - val_loss: 0.4911 - val_root_mean_squared_error: 0.7008\n",
      "Epoch 29/100\n",
      "998/998 [==============================] - 11s 11ms/step - loss: 0.4484 - root_mean_squared_error: 0.6696 - val_loss: 0.4885 - val_root_mean_squared_error: 0.6989\n",
      "Epoch 30/100\n",
      "998/998 [==============================] - 11s 11ms/step - loss: 0.4478 - root_mean_squared_error: 0.6692 - val_loss: 0.4882 - val_root_mean_squared_error: 0.6987\n",
      "Epoch 31/100\n",
      "998/998 [==============================] - 11s 11ms/step - loss: 0.4470 - root_mean_squared_error: 0.6686 - val_loss: 0.4882 - val_root_mean_squared_error: 0.6987\n",
      "Epoch 32/100\n",
      "998/998 [==============================] - 11s 11ms/step - loss: 0.4468 - root_mean_squared_error: 0.6684 - val_loss: 0.4869 - val_root_mean_squared_error: 0.6978\n",
      "Epoch 33/100\n",
      "998/998 [==============================] - 11s 11ms/step - loss: 0.4459 - root_mean_squared_error: 0.6677 - val_loss: 0.4900 - val_root_mean_squared_error: 0.7000\n",
      "Epoch 34/100\n",
      "998/998 [==============================] - 11s 11ms/step - loss: 0.4455 - root_mean_squared_error: 0.6675 - val_loss: 0.4916 - val_root_mean_squared_error: 0.7011\n",
      "Epoch 35/100\n",
      "998/998 [==============================] - 11s 11ms/step - loss: 0.4448 - root_mean_squared_error: 0.6669 - val_loss: 0.4865 - val_root_mean_squared_error: 0.6975\n",
      "Epoch 36/100\n",
      "998/998 [==============================] - 11s 11ms/step - loss: 0.4443 - root_mean_squared_error: 0.6666 - val_loss: 0.4879 - val_root_mean_squared_error: 0.6985\n",
      "Epoch 37/100\n",
      "998/998 [==============================] - 11s 11ms/step - loss: 0.4436 - root_mean_squared_error: 0.6661 - val_loss: 0.4966 - val_root_mean_squared_error: 0.7047\n",
      "Epoch 38/100\n",
      "998/998 [==============================] - 11s 11ms/step - loss: 0.4433 - root_mean_squared_error: 0.6658 - val_loss: 0.4858 - val_root_mean_squared_error: 0.6970\n",
      "Epoch 39/100\n",
      "998/998 [==============================] - 11s 11ms/step - loss: 0.4431 - root_mean_squared_error: 0.6656 - val_loss: 0.4852 - val_root_mean_squared_error: 0.6965\n",
      "Epoch 40/100\n",
      "998/998 [==============================] - 11s 11ms/step - loss: 0.4426 - root_mean_squared_error: 0.6653 - val_loss: 0.4853 - val_root_mean_squared_error: 0.6967\n",
      "Epoch 41/100\n",
      "998/998 [==============================] - 11s 11ms/step - loss: 0.4421 - root_mean_squared_error: 0.6649 - val_loss: 0.4915 - val_root_mean_squared_error: 0.7011\n",
      "Epoch 42/100\n",
      "998/998 [==============================] - 11s 11ms/step - loss: 0.4416 - root_mean_squared_error: 0.6645 - val_loss: 0.4878 - val_root_mean_squared_error: 0.6984\n",
      "Epoch 43/100\n",
      "998/998 [==============================] - 11s 11ms/step - loss: 0.4406 - root_mean_squared_error: 0.6638 - val_loss: 0.4886 - val_root_mean_squared_error: 0.6990\n",
      "Epoch 44/100\n",
      "998/998 [==============================] - 12s 12ms/step - loss: 0.4407 - root_mean_squared_error: 0.6638 - val_loss: 0.4957 - val_root_mean_squared_error: 0.7040\n",
      "Epoch 45/100\n",
      "998/998 [==============================] - 14s 14ms/step - loss: 0.4398 - root_mean_squared_error: 0.6631 - val_loss: 0.4864 - val_root_mean_squared_error: 0.6974\n",
      "Epoch 46/100\n",
      "998/998 [==============================] - 13s 13ms/step - loss: 0.4400 - root_mean_squared_error: 0.6634 - val_loss: 0.4944 - val_root_mean_squared_error: 0.7032\n",
      "Epoch 47/100\n",
      "998/998 [==============================] - 12s 12ms/step - loss: 0.4394 - root_mean_squared_error: 0.6629 - val_loss: 0.4906 - val_root_mean_squared_error: 0.7004\n",
      "Epoch 48/100\n",
      "998/998 [==============================] - 14s 14ms/step - loss: 0.4389 - root_mean_squared_error: 0.6625 - val_loss: 0.4868 - val_root_mean_squared_error: 0.6977\n",
      "Epoch 49/100\n",
      "998/998 [==============================] - 13s 13ms/step - loss: 0.4380 - root_mean_squared_error: 0.6618 - val_loss: 0.4815 - val_root_mean_squared_error: 0.6939\n"
     ]
    },
    {
     "name": "stderr",
     "output_type": "stream",
     "text": [
      "WARNING:absl:Found untraced functions such as gru_cell_33_layer_call_fn, gru_cell_33_layer_call_and_return_conditional_losses, gru_cell_33_layer_call_fn, gru_cell_33_layer_call_and_return_conditional_losses, gru_cell_33_layer_call_and_return_conditional_losses while saving (showing 5 of 5). These functions will not be directly callable after loading.\n"
     ]
    },
    {
     "name": "stdout",
     "output_type": "stream",
     "text": [
      "INFO:tensorflow:Assets written to: model3\\assets\n"
     ]
    },
    {
     "name": "stderr",
     "output_type": "stream",
     "text": [
      "INFO:tensorflow:Assets written to: model3\\assets\n"
     ]
    },
    {
     "name": "stdout",
     "output_type": "stream",
     "text": [
      "Epoch 50/100\n",
      "998/998 [==============================] - 12s 12ms/step - loss: 0.4385 - root_mean_squared_error: 0.6622 - val_loss: 0.4809 - val_root_mean_squared_error: 0.6935\n"
     ]
    },
    {
     "name": "stderr",
     "output_type": "stream",
     "text": [
      "WARNING:absl:Found untraced functions such as gru_cell_33_layer_call_fn, gru_cell_33_layer_call_and_return_conditional_losses, gru_cell_33_layer_call_fn, gru_cell_33_layer_call_and_return_conditional_losses, gru_cell_33_layer_call_and_return_conditional_losses while saving (showing 5 of 5). These functions will not be directly callable after loading.\n"
     ]
    },
    {
     "name": "stdout",
     "output_type": "stream",
     "text": [
      "INFO:tensorflow:Assets written to: model3\\assets\n"
     ]
    },
    {
     "name": "stderr",
     "output_type": "stream",
     "text": [
      "INFO:tensorflow:Assets written to: model3\\assets\n"
     ]
    },
    {
     "name": "stdout",
     "output_type": "stream",
     "text": [
      "Epoch 51/100\n",
      "998/998 [==============================] - 12s 12ms/step - loss: 0.4374 - root_mean_squared_error: 0.6613 - val_loss: 0.4853 - val_root_mean_squared_error: 0.6967\n",
      "Epoch 52/100\n",
      "998/998 [==============================] - 12s 12ms/step - loss: 0.4367 - root_mean_squared_error: 0.6609 - val_loss: 0.4892 - val_root_mean_squared_error: 0.6995\n",
      "Epoch 53/100\n",
      "998/998 [==============================] - 12s 12ms/step - loss: 0.4362 - root_mean_squared_error: 0.6605 - val_loss: 0.4850 - val_root_mean_squared_error: 0.6964\n",
      "Epoch 54/100\n",
      "998/998 [==============================] - 12s 12ms/step - loss: 0.4363 - root_mean_squared_error: 0.6605 - val_loss: 0.4933 - val_root_mean_squared_error: 0.7023\n",
      "Epoch 55/100\n",
      "998/998 [==============================] - 12s 12ms/step - loss: 0.4359 - root_mean_squared_error: 0.6602 - val_loss: 0.4851 - val_root_mean_squared_error: 0.6965\n",
      "Epoch 56/100\n",
      "998/998 [==============================] - 12s 12ms/step - loss: 0.4354 - root_mean_squared_error: 0.6598 - val_loss: 0.4887 - val_root_mean_squared_error: 0.6991\n",
      "Epoch 57/100\n",
      "998/998 [==============================] - 12s 12ms/step - loss: 0.4351 - root_mean_squared_error: 0.6596 - val_loss: 0.4925 - val_root_mean_squared_error: 0.7018\n",
      "Epoch 58/100\n",
      "998/998 [==============================] - 12s 12ms/step - loss: 0.4343 - root_mean_squared_error: 0.6590 - val_loss: 0.4858 - val_root_mean_squared_error: 0.6970\n",
      "Epoch 59/100\n",
      "998/998 [==============================] - 12s 12ms/step - loss: 0.4342 - root_mean_squared_error: 0.6589 - val_loss: 0.4927 - val_root_mean_squared_error: 0.7019\n",
      "Epoch 60/100\n",
      "998/998 [==============================] - 12s 12ms/step - loss: 0.4340 - root_mean_squared_error: 0.6588 - val_loss: 0.4841 - val_root_mean_squared_error: 0.6958\n",
      "Epoch 61/100\n",
      "998/998 [==============================] - 12s 12ms/step - loss: 0.4332 - root_mean_squared_error: 0.6581 - val_loss: 0.4836 - val_root_mean_squared_error: 0.6954\n",
      "Epoch 62/100\n",
      "998/998 [==============================] - 12s 12ms/step - loss: 0.4326 - root_mean_squared_error: 0.6578 - val_loss: 0.4828 - val_root_mean_squared_error: 0.6948\n",
      "Epoch 63/100\n",
      "998/998 [==============================] - 12s 12ms/step - loss: 0.4324 - root_mean_squared_error: 0.6576 - val_loss: 0.4839 - val_root_mean_squared_error: 0.6956\n",
      "Epoch 64/100\n",
      "998/998 [==============================] - 13s 13ms/step - loss: 0.4317 - root_mean_squared_error: 0.6570 - val_loss: 0.4870 - val_root_mean_squared_error: 0.6979\n",
      "Epoch 65/100\n",
      "998/998 [==============================] - 12s 12ms/step - loss: 0.4313 - root_mean_squared_error: 0.6568 - val_loss: 0.4879 - val_root_mean_squared_error: 0.6985\n",
      "Epoch 66/100\n",
      "998/998 [==============================] - 12s 12ms/step - loss: 0.4309 - root_mean_squared_error: 0.6564 - val_loss: 0.4944 - val_root_mean_squared_error: 0.7031\n",
      "Epoch 67/100\n",
      "998/998 [==============================] - 12s 12ms/step - loss: 0.4307 - root_mean_squared_error: 0.6563 - val_loss: 0.4892 - val_root_mean_squared_error: 0.6994\n",
      "Epoch 68/100\n",
      "998/998 [==============================] - 15s 15ms/step - loss: 0.4303 - root_mean_squared_error: 0.6559 - val_loss: 0.4820 - val_root_mean_squared_error: 0.6943\n",
      "Epoch 69/100\n",
      "998/998 [==============================] - 14s 14ms/step - loss: 0.4297 - root_mean_squared_error: 0.6555 - val_loss: 0.4800 - val_root_mean_squared_error: 0.6928\n"
     ]
    },
    {
     "name": "stderr",
     "output_type": "stream",
     "text": [
      "WARNING:absl:Found untraced functions such as gru_cell_33_layer_call_fn, gru_cell_33_layer_call_and_return_conditional_losses, gru_cell_33_layer_call_fn, gru_cell_33_layer_call_and_return_conditional_losses, gru_cell_33_layer_call_and_return_conditional_losses while saving (showing 5 of 5). These functions will not be directly callable after loading.\n"
     ]
    },
    {
     "name": "stdout",
     "output_type": "stream",
     "text": [
      "INFO:tensorflow:Assets written to: model3\\assets\n"
     ]
    },
    {
     "name": "stderr",
     "output_type": "stream",
     "text": [
      "INFO:tensorflow:Assets written to: model3\\assets\n"
     ]
    },
    {
     "name": "stdout",
     "output_type": "stream",
     "text": [
      "Epoch 70/100\n",
      "998/998 [==============================] - 13s 13ms/step - loss: 0.4298 - root_mean_squared_error: 0.6556 - val_loss: 0.4892 - val_root_mean_squared_error: 0.6994\n",
      "Epoch 71/100\n",
      "998/998 [==============================] - 11s 11ms/step - loss: 0.4289 - root_mean_squared_error: 0.6549 - val_loss: 0.4947 - val_root_mean_squared_error: 0.7033\n",
      "Epoch 72/100\n",
      "998/998 [==============================] - 12s 12ms/step - loss: 0.4286 - root_mean_squared_error: 0.6547 - val_loss: 0.4834 - val_root_mean_squared_error: 0.6953\n",
      "Epoch 73/100\n",
      "998/998 [==============================] - 12s 13ms/step - loss: 0.4284 - root_mean_squared_error: 0.6545 - val_loss: 0.4847 - val_root_mean_squared_error: 0.6962\n",
      "Epoch 74/100\n",
      "998/998 [==============================] - 13s 13ms/step - loss: 0.4272 - root_mean_squared_error: 0.6536 - val_loss: 0.4872 - val_root_mean_squared_error: 0.6980\n",
      "Epoch 75/100\n",
      "998/998 [==============================] - 12s 12ms/step - loss: 0.4268 - root_mean_squared_error: 0.6533 - val_loss: 0.4817 - val_root_mean_squared_error: 0.6941\n",
      "Epoch 76/100\n",
      "998/998 [==============================] - 13s 13ms/step - loss: 0.4268 - root_mean_squared_error: 0.6533 - val_loss: 0.4861 - val_root_mean_squared_error: 0.6972\n",
      "Epoch 77/100\n",
      "998/998 [==============================] - 12s 12ms/step - loss: 0.4259 - root_mean_squared_error: 0.6526 - val_loss: 0.4824 - val_root_mean_squared_error: 0.6946\n",
      "Epoch 78/100\n",
      "998/998 [==============================] - 13s 13ms/step - loss: 0.4258 - root_mean_squared_error: 0.6525 - val_loss: 0.4861 - val_root_mean_squared_error: 0.6972\n",
      "Epoch 79/100\n",
      "998/998 [==============================] - 12s 12ms/step - loss: 0.4259 - root_mean_squared_error: 0.6526 - val_loss: 0.4904 - val_root_mean_squared_error: 0.7003\n",
      "Epoch 80/100\n",
      "998/998 [==============================] - 12s 12ms/step - loss: 0.4253 - root_mean_squared_error: 0.6522 - val_loss: 0.4874 - val_root_mean_squared_error: 0.6981\n",
      "Epoch 81/100\n",
      "998/998 [==============================] - 15s 15ms/step - loss: 0.4244 - root_mean_squared_error: 0.6514 - val_loss: 0.4810 - val_root_mean_squared_error: 0.6935\n",
      "Epoch 82/100\n",
      "998/998 [==============================] - 13s 13ms/step - loss: 0.4238 - root_mean_squared_error: 0.6510 - val_loss: 0.4836 - val_root_mean_squared_error: 0.6954\n",
      "Epoch 83/100\n",
      "998/998 [==============================] - 12s 12ms/step - loss: 0.4236 - root_mean_squared_error: 0.6508 - val_loss: 0.4907 - val_root_mean_squared_error: 0.7005\n",
      "Epoch 84/100\n",
      "998/998 [==============================] - 11s 11ms/step - loss: 0.4235 - root_mean_squared_error: 0.6507 - val_loss: 0.4926 - val_root_mean_squared_error: 0.7019\n",
      "Epoch 85/100\n",
      "998/998 [==============================] - 11s 11ms/step - loss: 0.4229 - root_mean_squared_error: 0.6503 - val_loss: 0.4891 - val_root_mean_squared_error: 0.6994\n",
      "Epoch 86/100\n",
      "998/998 [==============================] - 11s 11ms/step - loss: 0.4227 - root_mean_squared_error: 0.6501 - val_loss: 0.4846 - val_root_mean_squared_error: 0.6962\n",
      "Epoch 87/100\n",
      "998/998 [==============================] - 11s 11ms/step - loss: 0.4226 - root_mean_squared_error: 0.6501 - val_loss: 0.4915 - val_root_mean_squared_error: 0.7011\n",
      "Epoch 88/100\n",
      "998/998 [==============================] - 11s 11ms/step - loss: 0.4213 - root_mean_squared_error: 0.6491 - val_loss: 0.4903 - val_root_mean_squared_error: 0.7002\n",
      "Epoch 89/100\n",
      "998/998 [==============================] - 11s 11ms/step - loss: 0.4212 - root_mean_squared_error: 0.6490 - val_loss: 0.4974 - val_root_mean_squared_error: 0.7053\n",
      "Epoch 90/100\n",
      "998/998 [==============================] - 11s 11ms/step - loss: 0.4208 - root_mean_squared_error: 0.6487 - val_loss: 0.4896 - val_root_mean_squared_error: 0.6997\n",
      "Epoch 91/100\n",
      "998/998 [==============================] - 11s 11ms/step - loss: 0.4212 - root_mean_squared_error: 0.6490 - val_loss: 0.4890 - val_root_mean_squared_error: 0.6993\n",
      "Epoch 92/100\n",
      "998/998 [==============================] - 11s 11ms/step - loss: 0.4200 - root_mean_squared_error: 0.6480 - val_loss: 0.4917 - val_root_mean_squared_error: 0.7012\n",
      "Epoch 93/100\n",
      "998/998 [==============================] - 13s 13ms/step - loss: 0.4198 - root_mean_squared_error: 0.6479 - val_loss: 0.4806 - val_root_mean_squared_error: 0.6933\n",
      "Epoch 94/100\n",
      "998/998 [==============================] - 12s 12ms/step - loss: 0.4196 - root_mean_squared_error: 0.6478 - val_loss: 0.4914 - val_root_mean_squared_error: 0.7010\n",
      "Epoch 95/100\n",
      "998/998 [==============================] - 13s 13ms/step - loss: 0.4188 - root_mean_squared_error: 0.6471 - val_loss: 0.4842 - val_root_mean_squared_error: 0.6958\n",
      "Epoch 96/100\n",
      "998/998 [==============================] - 12s 12ms/step - loss: 0.4185 - root_mean_squared_error: 0.6469 - val_loss: 0.4957 - val_root_mean_squared_error: 0.7041\n",
      "Epoch 97/100\n",
      "998/998 [==============================] - 14s 14ms/step - loss: 0.4177 - root_mean_squared_error: 0.6463 - val_loss: 0.4868 - val_root_mean_squared_error: 0.6977\n",
      "Epoch 98/100\n",
      "998/998 [==============================] - 11s 11ms/step - loss: 0.4172 - root_mean_squared_error: 0.6459 - val_loss: 0.4911 - val_root_mean_squared_error: 0.7008\n",
      "Epoch 99/100\n",
      "998/998 [==============================] - 11s 11ms/step - loss: 0.4169 - root_mean_squared_error: 0.6457 - val_loss: 0.4916 - val_root_mean_squared_error: 0.7011\n",
      "Epoch 100/100\n",
      "998/998 [==============================] - 12s 12ms/step - loss: 0.4168 - root_mean_squared_error: 0.6456 - val_loss: 0.4935 - val_root_mean_squared_error: 0.7025\n"
     ]
    }
   ],
   "source": [
    "history2 = model3.fit(X4_train, y4_train, validation_data=(X4_val, y4_val), epochs=100, callbacks=[cp3])"
   ]
  },
  {
   "cell_type": "code",
   "execution_count": 603,
   "metadata": {},
   "outputs": [],
   "source": [
    "from sklearn.metrics import mean_squared_error as mse\n",
    "import matplotlib.pyplot as plt\n",
    "\n",
    "def plot_predictions1(model, X, y, start=0, end=10000):\n",
    "  predictions = model.predict(X).flatten()\n",
    "  df = pd.DataFrame(data={'Predictions':predictions, 'Actuals':y})\n",
    "  df = pd.DataFrame(data={'Actuals':y, 'Predictions':predictions})\n",
    "  plt.plot(df['Actuals'][start:end])\n",
    "  plt.plot(df['Predictions'][start:end])\n",
    "\n",
    "\n",
    "  \n",
    "  return df, mse(y, predictions)\n"
   ]
  },
  {
   "cell_type": "code",
   "execution_count": 614,
   "metadata": {},
   "outputs": [
    {
     "name": "stdout",
     "output_type": "stream",
     "text": [
      "---------------------------------\n",
      "The model MAE is: 0.6410680632921605\n",
      "The model R2 is: 0.3690982280139694\n",
      "---------------------------------\n"
     ]
    },
    {
     "data": {
      "image/png": "[encoded data removed]",
      "text/plain": [
       "<Figure size 432x288 with 2 Axes>"
      ]
     },
     "metadata": {
      "needs_background": "light"
     },
     "output_type": "display_data"
    }
   ],
   "source": [
    "from sklearn.metrics import mean_absolute_error, r2_score\n",
    "#Plot on FT\n",
    "plt.subplot(1,2,1)\n",
    "plt.plot(history.history['loss'],label = 'training_loss')\n",
    "plt.plot(history.history['val_loss'],label = 'validation_loss')\n",
    "plt.title(\"Loss\")\n",
    "plt.xlabel(\"epochs\")\n",
    "plt.ylabel(\"loss\")\n",
    "plt.legend()\n",
    "plt.title(f\"History of model loss \")\n",
    "\n",
    "\n",
    "plt.subplot(1,2,2)\n",
    "plot_predictions1(model1, X2_test, y2_test)\n",
    "plt.legend(['Training Observations','Training Predictions'])\n",
    "plt.title(f\"Prediction for FT \")\n",
    "\n",
    "y_pred = model1.predict(X2_test)\n",
    "maeScore = mean_absolute_error(y_true=y2_test, y_pred=y_pred)\n",
    "r2Score= r2_score(y_true = y2_test, y_pred = y_pred)\n",
    "\n",
    "print(\"---------------------------------\")\n",
    "print(f\"The model MAE is: {maeScore}\")\n",
    "print(f\"The model R2 is: {r2Score}\")\n",
    "print(\"---------------------------------\")"
   ]
  },
  {
   "cell_type": "code",
   "execution_count": 616,
   "metadata": {},
   "outputs": [
    {
     "name": "stdout",
     "output_type": "stream",
     "text": [
      "---------------------------------\n",
      "The model MAE is: 0.4571120738234046\n",
      "The model R2 is: 0.8041132906018397\n",
      "---------------------------------\n"
     ]
    },
    {
     "data": {
      "image/png": "[encoded data removed]",
      "text/plain": [
       "<Figure size 432x288 with 2 Axes>"
      ]
     },
     "metadata": {
      "needs_background": "light"
     },
     "output_type": "display_data"
    }
   ],
   "source": [
    "#Plot on TT\n",
    "plt.subplot(1,2,1)\n",
    "plt.plot(history1.history['loss'],label = 'training_loss')\n",
    "plt.plot(history1.history['val_loss'],label = 'validation_loss')\n",
    "plt.title(\"Loss\")\n",
    "plt.xlabel(\"epochs\")\n",
    "plt.ylabel(\"loss\")\n",
    "plt.legend()\n",
    "plt.title(f\"History of model loss \")\n",
    "\n",
    "\n",
    "plt.subplot(1,2,2)\n",
    "plot_predictions1(model2, X3_test, y3_test)\n",
    "plt.legend(['Training Observations','Training Predictions'])\n",
    "plt.title(f\"Prediction for TT \")\n",
    "\n",
    "y_pred = model2.predict(X3_test)\n",
    "maeScore = mean_absolute_error(y_true=y3_test, y_pred=y_pred)\n",
    "r2Score= r2_score(y_true = y3_test, y_pred = y_pred)\n",
    "\n",
    "print(\"---------------------------------\")\n",
    "print(f\"The model MAE is: {maeScore}\")\n",
    "print(f\"The model R2 is: {r2Score}\")\n",
    "print(\"---------------------------------\")"
   ]
  },
  {
   "cell_type": "code",
   "execution_count": 618,
   "metadata": {},
   "outputs": [
    {
     "name": "stdout",
     "output_type": "stream",
     "text": [
      "---------------------------------\n",
      "The model MAE is: 0.5748704425667484\n",
      "The model R2 is: 0.47239235020078363\n",
      "---------------------------------\n"
     ]
    },
    {
     "data": {
      "image/png": "[encoded data removed]",
      "text/plain": [
       "<Figure size 432x288 with 2 Axes>"
      ]
     },
     "metadata": {
      "needs_background": "light"
     },
     "output_type": "display_data"
    }
   ],
   "source": [
    "#Plot on PT\n",
    "plt.subplot(1,2,1)\n",
    "plt.plot(history2.history['loss'],label = 'training_loss')\n",
    "plt.plot(history2.history['val_loss'],label = 'validation_loss')\n",
    "plt.title(\"Loss\")\n",
    "plt.xlabel(\"epochs\")\n",
    "plt.ylabel(\"loss\")\n",
    "plt.legend()\n",
    "plt.title(f\"History of model loss \")\n",
    "\n",
    "\n",
    "plt.subplot(1,2,2)\n",
    "plot_predictions1(model3, X4_test, y4_test)\n",
    "plt.legend(['Training Observations','Training Predictions'])\n",
    "plt.title(f\"Prediction for PT \")\n",
    "\n",
    "y_pred = model3.predict(X4_test)\n",
    "maeScore = mean_absolute_error(y_true=y4_test, y_pred=y_pred)\n",
    "r2Score= r2_score(y_true = y4_test, y_pred = y_pred)\n",
    "\n",
    "print(\"---------------------------------\")\n",
    "print(f\"The model MAE is: {maeScore}\")\n",
    "print(f\"The model R2 is: {r2Score}\")\n",
    "print(\"---------------------------------\")"
   ]
  },
  {
   "cell_type": "code",
   "execution_count": 582,
   "metadata": {},
   "outputs": [
    {
     "data": {
      "text/plain": [
       "<matplotlib.legend.Legend at 0x1dc942ee278>"
      ]
     },
     "execution_count": 582,
     "metadata": {},
     "output_type": "execute_result"
    },
    {
     "data": {
      "image/png": "[encoded data removed]",
      "text/plain": [
       "<Figure size 432x288 with 1 Axes>"
      ]
     },
     "metadata": {
      "needs_background": "light"
     },
     "output_type": "display_data"
    }
   ],
   "source": [
    "plot_predictions1(model1, X2_test, y2_test)\n",
    "plt.legend(['Training Observations','Training Predictions'])"
   ]
  },
  {
   "cell_type": "code",
   "execution_count": 583,
   "metadata": {},
   "outputs": [
    {
     "data": {
      "text/plain": [
       "<matplotlib.legend.Legend at 0x1dc89544898>"
      ]
     },
     "execution_count": 583,
     "metadata": {},
     "output_type": "execute_result"
    },
    {
     "data": {
      "image/png": "[encoded data removed]",
      "text/plain": [
       "<Figure size 432x288 with 1 Axes>"
      ]
     },
     "metadata": {
      "needs_background": "light"
     },
     "output_type": "display_data"
    }
   ],
   "source": [
    "plot_predictions1(model1, X2_val, y2_val)\n",
    "plt.legend(['Training Predictions', 'Training Observations'])"
   ]
  },
  {
   "cell_type": "code",
   "execution_count": 584,
   "metadata": {},
   "outputs": [
    {
     "data": {
      "text/plain": [
       "<matplotlib.legend.Legend at 0x1dc89544e10>"
      ]
     },
     "execution_count": 584,
     "metadata": {},
     "output_type": "execute_result"
    },
    {
     "data": {
      "image/png": "[encoded data removed]",
      "text/plain": [
       "<Figure size 432x288 with 1 Axes>"
      ]
     },
     "metadata": {
      "needs_background": "light"
     },
     "output_type": "display_data"
    }
   ],
   "source": [
    "plt.plot(history.history['loss'],label = 'training_loss')\n",
    "plt.plot(history.history['val_loss'],label = 'validation_loss')\n",
    "plt.title(\"Loss\")\n",
    "plt.xlabel(\"epochs\")\n",
    "plt.ylabel(\"loss\")\n",
    "plt.legend()"
   ]
  }
 ],
 "metadata": {
  "kernelspec": {
   "display_name": "openvino_env",
   "language": "python",
   "name": "openvino_env"
  },
  "language_info": {
   "codemirror_mode": {
    "name": "ipython",
    "version": 3
   },
   "file_extension": ".py",
   "mimetype": "text/x-python",
   "name": "python",
   "nbconvert_exporter": "python",
   "pygments_lexer": "ipython3",
   "version": "3.6.6"
  },
  "orig_nbformat": 4
 },
 "nbformat": 4,
 "nbformat_minor": 2
}
